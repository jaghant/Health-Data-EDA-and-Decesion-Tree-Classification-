{
 "cells": [
  {
   "cell_type": "markdown",
   "id": "e73327fb",
   "metadata": {
    "id": "e73327fb"
   },
   "source": [
    "\n",
    "# **Importing packages**."
   ]
  },
  {
   "cell_type": "code",
   "execution_count": null,
   "id": "39e2c379",
   "metadata": {
    "id": "39e2c379"
   },
   "outputs": [],
   "source": [
    "import pandas as pd\n",
    "import numpy as np\n",
    "import matplotlib.pyplot as plt\n",
    "import seaborn as sns\n",
    "%matplotlib inline  \n",
    "from sklearn.preprocessing import LabelEncoder#for train test splitting\n",
    "from sklearn.model_selection import train_test_split#for decision tree object\n",
    "from sklearn.tree import DecisionTreeClassifier#for checking testing results\n",
    "from sklearn.metrics import classification_report, confusion_matrix#for visualizing tree \n",
    "from sklearn.tree import plot_tree\n",
    "from sklearn import metrics\n",
    "from sklearn.preprocessing import LabelEncoder"
   ]
  },
  {
   "cell_type": "markdown",
   "id": "b150ec0f",
   "metadata": {
    "id": "b150ec0f"
   },
   "source": [
    "# **Read IHD-NORMAL data**."
   ]
  },
  {
   "cell_type": "code",
   "execution_count": null,
   "id": "90b6e961",
   "metadata": {
    "colab": {
     "base_uri": "https://localhost:8080/",
     "height": 1000
    },
    "id": "90b6e961",
    "outputId": "a3b38bdb-7258-43b1-ab9f-4cedc8596a8f"
   },
   "outputs": [
    {
     "data": {
      "text/html": [
       "\n",
       "  <div id=\"df-57ae2962-4517-41b1-9a12-82f14a132178\">\n",
       "    <div class=\"colab-df-container\">\n",
       "      <div>\n",
       "<style scoped>\n",
       "    .dataframe tbody tr th:only-of-type {\n",
       "        vertical-align: middle;\n",
       "    }\n",
       "\n",
       "    .dataframe tbody tr th {\n",
       "        vertical-align: top;\n",
       "    }\n",
       "\n",
       "    .dataframe thead th {\n",
       "        text-align: right;\n",
       "    }\n",
       "</style>\n",
       "<table border=\"1\" class=\"dataframe\">\n",
       "  <thead>\n",
       "    <tr style=\"text-align: right;\">\n",
       "      <th></th>\n",
       "      <th>Date</th>\n",
       "      <th>Month</th>\n",
       "      <th>Time</th>\n",
       "      <th>IP No</th>\n",
       "      <th>Sex</th>\n",
       "      <th>Age</th>\n",
       "      <th>Place</th>\n",
       "      <th>AO</th>\n",
       "      <th>LA</th>\n",
       "      <th>RV</th>\n",
       "      <th>...</th>\n",
       "      <th>Imp_ 2</th>\n",
       "      <th>Imp_ 3</th>\n",
       "      <th>Imp_ 4</th>\n",
       "      <th>Imp_ 5</th>\n",
       "      <th>Imp_ 6</th>\n",
       "      <th>Imp_ 7</th>\n",
       "      <th>Imp_ 8</th>\n",
       "      <th>Imp_ 9</th>\n",
       "      <th>Imp_ 10</th>\n",
       "      <th>Imp_ 11</th>\n",
       "    </tr>\n",
       "  </thead>\n",
       "  <tbody>\n",
       "    <tr>\n",
       "      <th>0</th>\n",
       "      <td>2016-08-01 00:00:00</td>\n",
       "      <td>1</td>\n",
       "      <td>11:10:00</td>\n",
       "      <td>1473275</td>\n",
       "      <td>F</td>\n",
       "      <td>18</td>\n",
       "      <td>MANDYA</td>\n",
       "      <td>21.0</td>\n",
       "      <td>23</td>\n",
       "      <td>22</td>\n",
       "      <td>...</td>\n",
       "      <td>NO REGIONAL WALL MOTION ABNORMALITY</td>\n",
       "      <td>NORMAL LEFT VENTRICLE SYSTOLIC FUNCTION, EF- 6...</td>\n",
       "      <td>TRACE PERICARDIAL EFFUSION SEEN</td>\n",
       "      <td>NO CLOTS / VEGETATION</td>\n",
       "      <td>NaN</td>\n",
       "      <td>NaN</td>\n",
       "      <td>NaN</td>\n",
       "      <td>NaN</td>\n",
       "      <td>NaN</td>\n",
       "      <td>NaN</td>\n",
       "    </tr>\n",
       "    <tr>\n",
       "      <th>1</th>\n",
       "      <td>2016-08-01 00:00:00</td>\n",
       "      <td>1</td>\n",
       "      <td>16:16:00</td>\n",
       "      <td>1474255</td>\n",
       "      <td>F</td>\n",
       "      <td>18</td>\n",
       "      <td>HASSAN</td>\n",
       "      <td>NaN</td>\n",
       "      <td>22</td>\n",
       "      <td>14</td>\n",
       "      <td>...</td>\n",
       "      <td>NO REGIONAL WALL MOTION ABNORMALITY</td>\n",
       "      <td>NORMAL LEFT VENTRICLE SYSTOLIC FUNCTION, EF- 6...</td>\n",
       "      <td>NO CLOTS / VEGETATION / PERICARDIAL EFFUSION</td>\n",
       "      <td>NaN</td>\n",
       "      <td>NaN</td>\n",
       "      <td>NaN</td>\n",
       "      <td>NaN</td>\n",
       "      <td>NaN</td>\n",
       "      <td>NaN</td>\n",
       "      <td>NaN</td>\n",
       "    </tr>\n",
       "    <tr>\n",
       "      <th>2</th>\n",
       "      <td>31-01-2016</td>\n",
       "      <td>1</td>\n",
       "      <td>08:29:00</td>\n",
       "      <td>1441880</td>\n",
       "      <td>M</td>\n",
       "      <td>18</td>\n",
       "      <td>MYSURU</td>\n",
       "      <td>23.0</td>\n",
       "      <td>34</td>\n",
       "      <td>20</td>\n",
       "      <td>...</td>\n",
       "      <td>NO REGIONAL WALL MOTION ABNORMALITY</td>\n",
       "      <td>NORMAL LEFT VENTRICLE SYSTOLIC FUNCTION, EF-  ...</td>\n",
       "      <td>NO CLOTS / VEGETATION / PERICARDIAL EFFUSION</td>\n",
       "      <td>NaN</td>\n",
       "      <td>NaN</td>\n",
       "      <td>NaN</td>\n",
       "      <td>NaN</td>\n",
       "      <td>NaN</td>\n",
       "      <td>NaN</td>\n",
       "      <td>NaN</td>\n",
       "    </tr>\n",
       "    <tr>\n",
       "      <th>3</th>\n",
       "      <td>22-02-2016</td>\n",
       "      <td>2</td>\n",
       "      <td>10:53:00</td>\n",
       "      <td>-1</td>\n",
       "      <td>M</td>\n",
       "      <td>18</td>\n",
       "      <td>AGARTALA</td>\n",
       "      <td>26.0</td>\n",
       "      <td>27</td>\n",
       "      <td>16</td>\n",
       "      <td>...</td>\n",
       "      <td>NORMAL BIVENTRICULAR  FUNCTION, LVEF- 64  %</td>\n",
       "      <td>NO CLOTS / VEGETATION / PERICARDIAL EFFUSION</td>\n",
       "      <td>NaN</td>\n",
       "      <td>NaN</td>\n",
       "      <td>NaN</td>\n",
       "      <td>NaN</td>\n",
       "      <td>NaN</td>\n",
       "      <td>NaN</td>\n",
       "      <td>NaN</td>\n",
       "      <td>NaN</td>\n",
       "    </tr>\n",
       "    <tr>\n",
       "      <th>4</th>\n",
       "      <td>2016-06-02 00:00:00</td>\n",
       "      <td>2</td>\n",
       "      <td>13:03:00</td>\n",
       "      <td>1486582</td>\n",
       "      <td>M</td>\n",
       "      <td>18</td>\n",
       "      <td>MYSURU</td>\n",
       "      <td>26.0</td>\n",
       "      <td>21</td>\n",
       "      <td>18</td>\n",
       "      <td>...</td>\n",
       "      <td>NO REGIONAL WALL MOTION ABNORMALITY</td>\n",
       "      <td>NORMAL LEFT VENTRICLE SYSTOLIC FUNCTION, EF- 5...</td>\n",
       "      <td>NO CLOTS / VEGETATION / PERICARDIAL EFFUSION</td>\n",
       "      <td>NaN</td>\n",
       "      <td>NaN</td>\n",
       "      <td>NaN</td>\n",
       "      <td>NaN</td>\n",
       "      <td>NaN</td>\n",
       "      <td>NaN</td>\n",
       "      <td>NaN</td>\n",
       "    </tr>\n",
       "    <tr>\n",
       "      <th>...</th>\n",
       "      <td>...</td>\n",
       "      <td>...</td>\n",
       "      <td>...</td>\n",
       "      <td>...</td>\n",
       "      <td>...</td>\n",
       "      <td>...</td>\n",
       "      <td>...</td>\n",
       "      <td>...</td>\n",
       "      <td>...</td>\n",
       "      <td>...</td>\n",
       "      <td>...</td>\n",
       "      <td>...</td>\n",
       "      <td>...</td>\n",
       "      <td>...</td>\n",
       "      <td>...</td>\n",
       "      <td>...</td>\n",
       "      <td>...</td>\n",
       "      <td>...</td>\n",
       "      <td>...</td>\n",
       "      <td>...</td>\n",
       "      <td>...</td>\n",
       "    </tr>\n",
       "    <tr>\n",
       "      <th>7299</th>\n",
       "      <td>19-08-2016</td>\n",
       "      <td>8</td>\n",
       "      <td>15:29:00</td>\n",
       "      <td>1578307</td>\n",
       "      <td>M</td>\n",
       "      <td>90</td>\n",
       "      <td>MYSURU</td>\n",
       "      <td>23.0</td>\n",
       "      <td>24</td>\n",
       "      <td>16</td>\n",
       "      <td>...</td>\n",
       "      <td>NO REGIONAL WALL MOTION ABNORMALITY</td>\n",
       "      <td>TRIVIAL TRICUSPID REGURGITATION</td>\n",
       "      <td>NORMAL LEFT VENTRICLE SYSTOLIC FUNCTION, EF-58...</td>\n",
       "      <td>GRADE I LV DIASTOLIC DYSFUNCTION</td>\n",
       "      <td>NO CLOTS / VEGETATION / PERICARDIAL EFFUSION</td>\n",
       "      <td>NaN</td>\n",
       "      <td>NaN</td>\n",
       "      <td>NaN</td>\n",
       "      <td>NaN</td>\n",
       "      <td>NaN</td>\n",
       "    </tr>\n",
       "    <tr>\n",
       "      <th>7300</th>\n",
       "      <td>17-12-2016</td>\n",
       "      <td>12</td>\n",
       "      <td>15:21:00</td>\n",
       "      <td>1636812</td>\n",
       "      <td>M</td>\n",
       "      <td>90</td>\n",
       "      <td>MYSURU</td>\n",
       "      <td>32.0</td>\n",
       "      <td>28</td>\n",
       "      <td>19</td>\n",
       "      <td>...</td>\n",
       "      <td>NORMAL LEFT VENTRICLE SYSTOLIC FUNCTION, EF- 6...</td>\n",
       "      <td>GRADE I  LV DIASTOLIC DYSFUNCTION +</td>\n",
       "      <td>MITRAL ANNULAR CALCIFICATION WITH TRIVIAL MR</td>\n",
       "      <td>SCLEROTIC AVD WITH MILD AR</td>\n",
       "      <td>MODERATE TR WITH PAH, RVSP 52MMHG</td>\n",
       "      <td>NO CLOTS / VEGETATION / PERICARDIAL EFFUSION</td>\n",
       "      <td>NaN</td>\n",
       "      <td>NaN</td>\n",
       "      <td>NaN</td>\n",
       "      <td>NaN</td>\n",
       "    </tr>\n",
       "    <tr>\n",
       "      <th>7301</th>\n",
       "      <td>29-01-2016</td>\n",
       "      <td>1</td>\n",
       "      <td>10:42:00</td>\n",
       "      <td>1483291</td>\n",
       "      <td>M</td>\n",
       "      <td>92</td>\n",
       "      <td>MYSURU</td>\n",
       "      <td>29.0</td>\n",
       "      <td>38</td>\n",
       "      <td>22</td>\n",
       "      <td>...</td>\n",
       "      <td>NO REGIONAL WALL MOTION ABNORMALITY</td>\n",
       "      <td>TRIVIAL MITRAL REGURGITATION</td>\n",
       "      <td>NORMAL LEFT VENTRICLE SYSTOLIC FUNCTION, EF-60...</td>\n",
       "      <td>LV DIASTOLIC DYSFUNCTION</td>\n",
       "      <td>NO CLOTS / VEGETATION / PERICARDIAL EFFUSION</td>\n",
       "      <td>NaN</td>\n",
       "      <td>NaN</td>\n",
       "      <td>NaN</td>\n",
       "      <td>NaN</td>\n",
       "      <td>NaN</td>\n",
       "    </tr>\n",
       "    <tr>\n",
       "      <th>7302</th>\n",
       "      <td>2016-12-04 00:00:00</td>\n",
       "      <td>4</td>\n",
       "      <td>11:42:00</td>\n",
       "      <td>1516291</td>\n",
       "      <td>F</td>\n",
       "      <td>95</td>\n",
       "      <td>HASSAN</td>\n",
       "      <td>22.0</td>\n",
       "      <td>37</td>\n",
       "      <td>19</td>\n",
       "      <td>...</td>\n",
       "      <td>REGIONAL WALL MOTION ABNORMALITY SEEN</td>\n",
       "      <td>MILD MITRAL/ TRIVIAL AORTIC/ MODERATE TRICUSPI...</td>\n",
       "      <td>DEPRESSED LEFT VENTRICLE SYSTOLIC FUNCTION, EF...</td>\n",
       "      <td>LV DIASTOLIC DYSFUNCTION</td>\n",
       "      <td>MODERATE PULMONARY HYPERTENSION</td>\n",
       "      <td>MINIMAL PERICARDIAL EFFUSION</td>\n",
       "      <td>NO CLOTS / VEGETATION</td>\n",
       "      <td>NaN</td>\n",
       "      <td>NaN</td>\n",
       "      <td>NaN</td>\n",
       "    </tr>\n",
       "    <tr>\n",
       "      <th>7303</th>\n",
       "      <td>13-01-2016</td>\n",
       "      <td>1</td>\n",
       "      <td>14:24:00</td>\n",
       "      <td>1462251</td>\n",
       "      <td>M</td>\n",
       "      <td>96</td>\n",
       "      <td>KODAGU</td>\n",
       "      <td>31.0</td>\n",
       "      <td>30</td>\n",
       "      <td>18</td>\n",
       "      <td>...</td>\n",
       "      <td>NORMAL LEFT VENTRICLE SYSTOLIC FUNCTION, EF- 6...</td>\n",
       "      <td>LV DIASTOLIC DYSFUNCTION +</td>\n",
       "      <td>SCLEROTIC AVD WITH MILD AR</td>\n",
       "      <td>NO CLOTS / VEGETATION / PERICARDIAL EFFUSION</td>\n",
       "      <td>NaN</td>\n",
       "      <td>NaN</td>\n",
       "      <td>NaN</td>\n",
       "      <td>NaN</td>\n",
       "      <td>NaN</td>\n",
       "      <td>NaN</td>\n",
       "    </tr>\n",
       "  </tbody>\n",
       "</table>\n",
       "<p>7304 rows × 60 columns</p>\n",
       "</div>\n",
       "      <button class=\"colab-df-convert\" onclick=\"convertToInteractive('df-57ae2962-4517-41b1-9a12-82f14a132178')\"\n",
       "              title=\"Convert this dataframe to an interactive table.\"\n",
       "              style=\"display:none;\">\n",
       "        \n",
       "  <svg xmlns=\"http://www.w3.org/2000/svg\" height=\"24px\"viewBox=\"0 0 24 24\"\n",
       "       width=\"24px\">\n",
       "    <path d=\"M0 0h24v24H0V0z\" fill=\"none\"/>\n",
       "    <path d=\"M18.56 5.44l.94 2.06.94-2.06 2.06-.94-2.06-.94-.94-2.06-.94 2.06-2.06.94zm-11 1L8.5 8.5l.94-2.06 2.06-.94-2.06-.94L8.5 2.5l-.94 2.06-2.06.94zm10 10l.94 2.06.94-2.06 2.06-.94-2.06-.94-.94-2.06-.94 2.06-2.06.94z\"/><path d=\"M17.41 7.96l-1.37-1.37c-.4-.4-.92-.59-1.43-.59-.52 0-1.04.2-1.43.59L10.3 9.45l-7.72 7.72c-.78.78-.78 2.05 0 2.83L4 21.41c.39.39.9.59 1.41.59.51 0 1.02-.2 1.41-.59l7.78-7.78 2.81-2.81c.8-.78.8-2.07 0-2.86zM5.41 20L4 18.59l7.72-7.72 1.47 1.35L5.41 20z\"/>\n",
       "  </svg>\n",
       "      </button>\n",
       "      \n",
       "  <style>\n",
       "    .colab-df-container {\n",
       "      display:flex;\n",
       "      flex-wrap:wrap;\n",
       "      gap: 12px;\n",
       "    }\n",
       "\n",
       "    .colab-df-convert {\n",
       "      background-color: #E8F0FE;\n",
       "      border: none;\n",
       "      border-radius: 50%;\n",
       "      cursor: pointer;\n",
       "      display: none;\n",
       "      fill: #1967D2;\n",
       "      height: 32px;\n",
       "      padding: 0 0 0 0;\n",
       "      width: 32px;\n",
       "    }\n",
       "\n",
       "    .colab-df-convert:hover {\n",
       "      background-color: #E2EBFA;\n",
       "      box-shadow: 0px 1px 2px rgba(60, 64, 67, 0.3), 0px 1px 3px 1px rgba(60, 64, 67, 0.15);\n",
       "      fill: #174EA6;\n",
       "    }\n",
       "\n",
       "    [theme=dark] .colab-df-convert {\n",
       "      background-color: #3B4455;\n",
       "      fill: #D2E3FC;\n",
       "    }\n",
       "\n",
       "    [theme=dark] .colab-df-convert:hover {\n",
       "      background-color: #434B5C;\n",
       "      box-shadow: 0px 1px 3px 1px rgba(0, 0, 0, 0.15);\n",
       "      filter: drop-shadow(0px 1px 2px rgba(0, 0, 0, 0.3));\n",
       "      fill: #FFFFFF;\n",
       "    }\n",
       "  </style>\n",
       "\n",
       "      <script>\n",
       "        const buttonEl =\n",
       "          document.querySelector('#df-57ae2962-4517-41b1-9a12-82f14a132178 button.colab-df-convert');\n",
       "        buttonEl.style.display =\n",
       "          google.colab.kernel.accessAllowed ? 'block' : 'none';\n",
       "\n",
       "        async function convertToInteractive(key) {\n",
       "          const element = document.querySelector('#df-57ae2962-4517-41b1-9a12-82f14a132178');\n",
       "          const dataTable =\n",
       "            await google.colab.kernel.invokeFunction('convertToInteractive',\n",
       "                                                     [key], {});\n",
       "          if (!dataTable) return;\n",
       "\n",
       "          const docLinkHtml = 'Like what you see? Visit the ' +\n",
       "            '<a target=\"_blank\" href=https://colab.research.google.com/notebooks/data_table.ipynb>data table notebook</a>'\n",
       "            + ' to learn more about interactive tables.';\n",
       "          element.innerHTML = '';\n",
       "          dataTable['output_type'] = 'display_data';\n",
       "          await google.colab.output.renderOutput(dataTable, element);\n",
       "          const docLink = document.createElement('div');\n",
       "          docLink.innerHTML = docLinkHtml;\n",
       "          element.appendChild(docLink);\n",
       "        }\n",
       "      </script>\n",
       "    </div>\n",
       "  </div>\n",
       "  "
      ],
      "text/plain": [
       "                     Date  Month      Time    IP No Sex  Age     Place    AO  \\\n",
       "0     2016-08-01 00:00:00      1  11:10:00  1473275   F   18    MANDYA  21.0   \n",
       "1     2016-08-01 00:00:00      1  16:16:00  1474255   F   18    HASSAN   NaN   \n",
       "2              31-01-2016      1  08:29:00  1441880   M   18    MYSURU  23.0   \n",
       "3              22-02-2016      2  10:53:00       -1   M   18  AGARTALA  26.0   \n",
       "4     2016-06-02 00:00:00      2  13:03:00  1486582   M   18    MYSURU  26.0   \n",
       "...                   ...    ...       ...      ...  ..  ...       ...   ...   \n",
       "7299           19-08-2016      8  15:29:00  1578307   M   90    MYSURU  23.0   \n",
       "7300           17-12-2016     12  15:21:00  1636812   M   90    MYSURU  32.0   \n",
       "7301           29-01-2016      1  10:42:00  1483291   M   92    MYSURU  29.0   \n",
       "7302  2016-12-04 00:00:00      4  11:42:00  1516291   F   95    HASSAN  22.0   \n",
       "7303           13-01-2016      1  14:24:00  1462251   M   96    KODAGU  31.0   \n",
       "\n",
       "      LA  RV  ...                                             Imp_ 2  \\\n",
       "0     23  22  ...               NO REGIONAL WALL MOTION ABNORMALITY    \n",
       "1     22  14  ...               NO REGIONAL WALL MOTION ABNORMALITY    \n",
       "2     34  20  ...               NO REGIONAL WALL MOTION ABNORMALITY    \n",
       "3     27  16  ...        NORMAL BIVENTRICULAR  FUNCTION, LVEF- 64  %   \n",
       "4     21  18  ...               NO REGIONAL WALL MOTION ABNORMALITY    \n",
       "...   ..  ..  ...                                                ...   \n",
       "7299  24  16  ...               NO REGIONAL WALL MOTION ABNORMALITY    \n",
       "7300  28  19  ...  NORMAL LEFT VENTRICLE SYSTOLIC FUNCTION, EF- 6...   \n",
       "7301  38  22  ...               NO REGIONAL WALL MOTION ABNORMALITY    \n",
       "7302  37  19  ...              REGIONAL WALL MOTION ABNORMALITY SEEN   \n",
       "7303  30  18  ...  NORMAL LEFT VENTRICLE SYSTOLIC FUNCTION, EF- 6...   \n",
       "\n",
       "                                                 Imp_ 3  \\\n",
       "0     NORMAL LEFT VENTRICLE SYSTOLIC FUNCTION, EF- 6...   \n",
       "1     NORMAL LEFT VENTRICLE SYSTOLIC FUNCTION, EF- 6...   \n",
       "2     NORMAL LEFT VENTRICLE SYSTOLIC FUNCTION, EF-  ...   \n",
       "3          NO CLOTS / VEGETATION / PERICARDIAL EFFUSION   \n",
       "4     NORMAL LEFT VENTRICLE SYSTOLIC FUNCTION, EF- 5...   \n",
       "...                                                 ...   \n",
       "7299                   TRIVIAL TRICUSPID REGURGITATION    \n",
       "7300                GRADE I  LV DIASTOLIC DYSFUNCTION +   \n",
       "7301                      TRIVIAL MITRAL REGURGITATION    \n",
       "7302  MILD MITRAL/ TRIVIAL AORTIC/ MODERATE TRICUSPI...   \n",
       "7303                         LV DIASTOLIC DYSFUNCTION +   \n",
       "\n",
       "                                                 Imp_ 4  \\\n",
       "0                      TRACE PERICARDIAL EFFUSION SEEN    \n",
       "1          NO CLOTS / VEGETATION / PERICARDIAL EFFUSION   \n",
       "2          NO CLOTS / VEGETATION / PERICARDIAL EFFUSION   \n",
       "3                                                   NaN   \n",
       "4          NO CLOTS / VEGETATION / PERICARDIAL EFFUSION   \n",
       "...                                                 ...   \n",
       "7299  NORMAL LEFT VENTRICLE SYSTOLIC FUNCTION, EF-58...   \n",
       "7300      MITRAL ANNULAR CALCIFICATION WITH TRIVIAL MR    \n",
       "7301  NORMAL LEFT VENTRICLE SYSTOLIC FUNCTION, EF-60...   \n",
       "7302  DEPRESSED LEFT VENTRICLE SYSTOLIC FUNCTION, EF...   \n",
       "7303                        SCLEROTIC AVD WITH MILD AR    \n",
       "\n",
       "                                            Imp_ 5  \\\n",
       "0                           NO CLOTS / VEGETATION    \n",
       "1                                              NaN   \n",
       "2                                              NaN   \n",
       "3                                              NaN   \n",
       "4                                              NaN   \n",
       "...                                            ...   \n",
       "7299             GRADE I LV DIASTOLIC DYSFUNCTION    \n",
       "7300                   SCLEROTIC AVD WITH MILD AR    \n",
       "7301                     LV DIASTOLIC DYSFUNCTION    \n",
       "7302                     LV DIASTOLIC DYSFUNCTION    \n",
       "7303  NO CLOTS / VEGETATION / PERICARDIAL EFFUSION   \n",
       "\n",
       "                                            Imp_ 6  \\\n",
       "0                                              NaN   \n",
       "1                                              NaN   \n",
       "2                                              NaN   \n",
       "3                                              NaN   \n",
       "4                                              NaN   \n",
       "...                                            ...   \n",
       "7299  NO CLOTS / VEGETATION / PERICARDIAL EFFUSION   \n",
       "7300            MODERATE TR WITH PAH, RVSP 52MMHG    \n",
       "7301  NO CLOTS / VEGETATION / PERICARDIAL EFFUSION   \n",
       "7302              MODERATE PULMONARY HYPERTENSION    \n",
       "7303                                           NaN   \n",
       "\n",
       "                                            Imp_ 7                  Imp_ 8  \\\n",
       "0                                              NaN                     NaN   \n",
       "1                                              NaN                     NaN   \n",
       "2                                              NaN                     NaN   \n",
       "3                                              NaN                     NaN   \n",
       "4                                              NaN                     NaN   \n",
       "...                                            ...                     ...   \n",
       "7299                                           NaN                     NaN   \n",
       "7300  NO CLOTS / VEGETATION / PERICARDIAL EFFUSION                     NaN   \n",
       "7301                                           NaN                     NaN   \n",
       "7302                  MINIMAL PERICARDIAL EFFUSION  NO CLOTS / VEGETATION    \n",
       "7303                                           NaN                     NaN   \n",
       "\n",
       "      Imp_ 9  Imp_ 10  Imp_ 11  \n",
       "0        NaN      NaN      NaN  \n",
       "1        NaN      NaN      NaN  \n",
       "2        NaN      NaN      NaN  \n",
       "3        NaN      NaN      NaN  \n",
       "4        NaN      NaN      NaN  \n",
       "...      ...      ...      ...  \n",
       "7299     NaN      NaN      NaN  \n",
       "7300     NaN      NaN      NaN  \n",
       "7301     NaN      NaN      NaN  \n",
       "7302     NaN      NaN      NaN  \n",
       "7303     NaN      NaN      NaN  \n",
       "\n",
       "[7304 rows x 60 columns]"
      ]
     },
     "execution_count": 2,
     "metadata": {},
     "output_type": "execute_result"
    }
   ],
   "source": [
    "sheet2=pd.read_excel(\"/content/drive/MyDrive/Colab Notebooks/All Data Sets/final data-for analysis_for healthdata.xlsx\",sheet_name=\"7304-IHD-normal\")\n",
    "newsheet2=sheet2\n",
    "newsheet2"
   ]
  },
  {
   "cell_type": "markdown",
   "id": "RUEcU8-m3O4R",
   "metadata": {
    "id": "RUEcU8-m3O4R"
   },
   "source": [
    "# **See The Different Columns**."
   ]
  },
  {
   "cell_type": "code",
   "execution_count": null,
   "id": "3e05a4be",
   "metadata": {
    "colab": {
     "base_uri": "https://localhost:8080/"
    },
    "id": "3e05a4be",
    "outputId": "8dfba5d6-29d4-4f0d-cd2a-7d7c83eb3df8"
   },
   "outputs": [
    {
     "data": {
      "text/plain": [
       "Index(['Date', 'Month', 'Time', 'IP No', 'Sex', 'Age', 'Place', 'AO', 'LA',\n",
       "       'RV', 'L VID_d', 'L VID_s', 'IVS_d', 'IVS_S', 'LVPW_d', 'LVPW_s', 'EDV',\n",
       "       'ESV', 'SV', 'EF(%)', 'FS(%)', 'MV_E', 'MV_A', 'MR', 'TV_E', 'TV_A',\n",
       "       'TR', 'AV_VMAX', 'AR', 'PV_VMAX', 'PR', 'Left Ventricle', 'Left Atrium',\n",
       "       'Right Ventricle', 'Right Atrium', 'Aorta', 'Pulmonary Artery', 'IVS',\n",
       "       'IAS', 'Mitral valve ', 'Aortic valve', 'Tricuspid valve',\n",
       "       'pulmonary valve', 'Pericardium', 'Colour Doppler', 'Doppler Study',\n",
       "       'Other', 'Diagnosis', 'coding', 'Imp_ 1', 'Imp_ 2', 'Imp_ 3', 'Imp_ 4',\n",
       "       'Imp_ 5', 'Imp_ 6', 'Imp_ 7', 'Imp_ 8', 'Imp_ 9', 'Imp_ 10', 'Imp_ 11'],\n",
       "      dtype='object')"
      ]
     },
     "execution_count": 3,
     "metadata": {},
     "output_type": "execute_result"
    }
   ],
   "source": [
    "newsheet2.columns"
   ]
  },
  {
   "cell_type": "markdown",
   "id": "56ab8ede",
   "metadata": {
    "id": "56ab8ede"
   },
   "source": [
    "## **Drop the columns**."
   ]
  },
  {
   "cell_type": "code",
   "execution_count": null,
   "id": "79ca0432",
   "metadata": {
    "id": "79ca0432"
   },
   "outputs": [],
   "source": [
    "newsheet2.drop(columns=[ 'AR',  'PR', 'Left Ventricle', 'Left Atrium',\n",
    "       'Right Ventricle', 'Right Atrium', 'Aorta', 'Pulmonary Artery', 'IVS',\n",
    "       'IAS', 'Mitral valve ', 'Aortic valve', 'Tricuspid valve',\n",
    "       'pulmonary valve', 'Pericardium', 'Colour Doppler', 'Doppler Study',\n",
    "       'Other', 'Imp_ 1', 'Imp_ 2', 'Imp_ 3', 'Imp_ 4',\n",
    "       'Imp_ 5', 'Imp_ 6', 'Imp_ 7', 'Imp_ 8', 'Imp_ 9', 'Imp_ 10', 'Imp_ 11'],inplace=True)"
   ]
  },
  {
   "cell_type": "markdown",
   "id": "7bTdnNMeA7d_",
   "metadata": {
    "id": "7bTdnNMeA7d_"
   },
   "source": [
    "# **See the column information and its types.**"
   ]
  },
  {
   "cell_type": "code",
   "execution_count": null,
   "id": "-WkaER9PAfnI",
   "metadata": {
    "colab": {
     "base_uri": "https://localhost:8080/"
    },
    "id": "-WkaER9PAfnI",
    "outputId": "a0401746-8d3b-4824-de3f-f8e667e22169"
   },
   "outputs": [
    {
     "name": "stdout",
     "output_type": "stream",
     "text": [
      "<class 'pandas.core.frame.DataFrame'>\n",
      "RangeIndex: 7304 entries, 0 to 7303\n",
      "Data columns (total 31 columns):\n",
      " #   Column     Non-Null Count  Dtype  \n",
      "---  ------     --------------  -----  \n",
      " 0   Date       7304 non-null   object \n",
      " 1   Month      7304 non-null   int64  \n",
      " 2   Time       7304 non-null   object \n",
      " 3   IP No      7304 non-null   int64  \n",
      " 4   Sex        7304 non-null   object \n",
      " 5   Age        7304 non-null   int64  \n",
      " 6   Place      7304 non-null   object \n",
      " 7   AO         7302 non-null   float64\n",
      " 8   LA         7304 non-null   int64  \n",
      " 9   RV         7304 non-null   object \n",
      " 10  L VID_d    7303 non-null   float64\n",
      " 11  L VID_s    7304 non-null   int64  \n",
      " 12  IVS_d      7299 non-null   float64\n",
      " 13  IVS_S      7299 non-null   float64\n",
      " 14  LVPW_d     7301 non-null   float64\n",
      " 15  LVPW_s     7301 non-null   float64\n",
      " 16  EDV        7299 non-null   float64\n",
      " 17  ESV        7298 non-null   float64\n",
      " 18  SV         7300 non-null   float64\n",
      " 19  EF(%)      7301 non-null   float64\n",
      " 20  FS(%)      7295 non-null   object \n",
      " 21  MV_E       7286 non-null   float64\n",
      " 22  MV_A       7231 non-null   float64\n",
      " 23  MR         7304 non-null   object \n",
      " 24  TV_E       7279 non-null   float64\n",
      " 25  TV_A       7254 non-null   float64\n",
      " 26  TR         7304 non-null   object \n",
      " 27  AV_VMAX    7278 non-null   float64\n",
      " 28  PV_VMAX    7264 non-null   float64\n",
      " 29  Diagnosis  7304 non-null   object \n",
      " 30  coding     7304 non-null   int64  \n",
      "dtypes: float64(16), int64(6), object(9)\n",
      "memory usage: 1.7+ MB\n"
     ]
    }
   ],
   "source": [
    "\n",
    "newsheet2.info()"
   ]
  },
  {
   "cell_type": "markdown",
   "id": "kmBMVEq_FBlH",
   "metadata": {
    "id": "kmBMVEq_FBlH"
   },
   "source": [
    "# **Find the mean, std, min, max, ect...**"
   ]
  },
  {
   "cell_type": "code",
   "execution_count": null,
   "id": "7NAsFyHTBxpO",
   "metadata": {
    "colab": {
     "base_uri": "https://localhost:8080/",
     "height": 739
    },
    "id": "7NAsFyHTBxpO",
    "outputId": "abd70646-41cc-4af7-dd2f-dac1e2fc03a5"
   },
   "outputs": [
    {
     "data": {
      "text/html": [
       "\n",
       "  <div id=\"df-741a231f-9205-4bf3-bf9e-c267f8f09c50\">\n",
       "    <div class=\"colab-df-container\">\n",
       "      <div>\n",
       "<style scoped>\n",
       "    .dataframe tbody tr th:only-of-type {\n",
       "        vertical-align: middle;\n",
       "    }\n",
       "\n",
       "    .dataframe tbody tr th {\n",
       "        vertical-align: top;\n",
       "    }\n",
       "\n",
       "    .dataframe thead th {\n",
       "        text-align: right;\n",
       "    }\n",
       "</style>\n",
       "<table border=\"1\" class=\"dataframe\">\n",
       "  <thead>\n",
       "    <tr style=\"text-align: right;\">\n",
       "      <th></th>\n",
       "      <th>count</th>\n",
       "      <th>mean</th>\n",
       "      <th>std</th>\n",
       "      <th>min</th>\n",
       "      <th>25%</th>\n",
       "      <th>50%</th>\n",
       "      <th>75%</th>\n",
       "      <th>max</th>\n",
       "    </tr>\n",
       "  </thead>\n",
       "  <tbody>\n",
       "    <tr>\n",
       "      <th>Month</th>\n",
       "      <td>7304.0</td>\n",
       "      <td>6.459885e+00</td>\n",
       "      <td>3.473738</td>\n",
       "      <td>1.0</td>\n",
       "      <td>3.0</td>\n",
       "      <td>7.0</td>\n",
       "      <td>9.0</td>\n",
       "      <td>12.0</td>\n",
       "    </tr>\n",
       "    <tr>\n",
       "      <th>IP No</th>\n",
       "      <td>7304.0</td>\n",
       "      <td>1.517440e+06</td>\n",
       "      <td>139761.621396</td>\n",
       "      <td>-1.0</td>\n",
       "      <td>1488204.0</td>\n",
       "      <td>1535274.5</td>\n",
       "      <td>1586062.5</td>\n",
       "      <td>1643615.0</td>\n",
       "    </tr>\n",
       "    <tr>\n",
       "      <th>Age</th>\n",
       "      <td>7304.0</td>\n",
       "      <td>5.100657e+01</td>\n",
       "      <td>14.783673</td>\n",
       "      <td>18.0</td>\n",
       "      <td>41.0</td>\n",
       "      <td>52.0</td>\n",
       "      <td>62.0</td>\n",
       "      <td>96.0</td>\n",
       "    </tr>\n",
       "    <tr>\n",
       "      <th>AO</th>\n",
       "      <td>7302.0</td>\n",
       "      <td>2.670337e+01</td>\n",
       "      <td>3.371763</td>\n",
       "      <td>16.0</td>\n",
       "      <td>24.0</td>\n",
       "      <td>27.0</td>\n",
       "      <td>29.0</td>\n",
       "      <td>53.0</td>\n",
       "    </tr>\n",
       "    <tr>\n",
       "      <th>LA</th>\n",
       "      <td>7304.0</td>\n",
       "      <td>3.017894e+01</td>\n",
       "      <td>4.602316</td>\n",
       "      <td>10.0</td>\n",
       "      <td>27.0</td>\n",
       "      <td>30.0</td>\n",
       "      <td>33.0</td>\n",
       "      <td>61.0</td>\n",
       "    </tr>\n",
       "    <tr>\n",
       "      <th>L VID_d</th>\n",
       "      <td>7303.0</td>\n",
       "      <td>4.370231e+01</td>\n",
       "      <td>6.073895</td>\n",
       "      <td>7.0</td>\n",
       "      <td>40.0</td>\n",
       "      <td>44.0</td>\n",
       "      <td>48.0</td>\n",
       "      <td>79.0</td>\n",
       "    </tr>\n",
       "    <tr>\n",
       "      <th>L VID_s</th>\n",
       "      <td>7304.0</td>\n",
       "      <td>2.861035e+01</td>\n",
       "      <td>6.092548</td>\n",
       "      <td>5.0</td>\n",
       "      <td>25.0</td>\n",
       "      <td>28.0</td>\n",
       "      <td>31.0</td>\n",
       "      <td>70.0</td>\n",
       "    </tr>\n",
       "    <tr>\n",
       "      <th>IVS_d</th>\n",
       "      <td>7299.0</td>\n",
       "      <td>8.883272e+00</td>\n",
       "      <td>2.558029</td>\n",
       "      <td>3.0</td>\n",
       "      <td>8.0</td>\n",
       "      <td>9.0</td>\n",
       "      <td>10.0</td>\n",
       "      <td>90.0</td>\n",
       "    </tr>\n",
       "    <tr>\n",
       "      <th>IVS_S</th>\n",
       "      <td>7299.0</td>\n",
       "      <td>1.322496e+01</td>\n",
       "      <td>2.822817</td>\n",
       "      <td>3.0</td>\n",
       "      <td>12.0</td>\n",
       "      <td>13.0</td>\n",
       "      <td>15.0</td>\n",
       "      <td>70.0</td>\n",
       "    </tr>\n",
       "    <tr>\n",
       "      <th>LVPW_d</th>\n",
       "      <td>7301.0</td>\n",
       "      <td>8.892480e+00</td>\n",
       "      <td>2.941125</td>\n",
       "      <td>3.0</td>\n",
       "      <td>8.0</td>\n",
       "      <td>9.0</td>\n",
       "      <td>10.0</td>\n",
       "      <td>99.0</td>\n",
       "    </tr>\n",
       "    <tr>\n",
       "      <th>LVPW_s</th>\n",
       "      <td>7301.0</td>\n",
       "      <td>1.335584e+01</td>\n",
       "      <td>3.754076</td>\n",
       "      <td>5.0</td>\n",
       "      <td>11.0</td>\n",
       "      <td>13.0</td>\n",
       "      <td>15.0</td>\n",
       "      <td>110.0</td>\n",
       "    </tr>\n",
       "    <tr>\n",
       "      <th>EDV</th>\n",
       "      <td>7299.0</td>\n",
       "      <td>9.062433e+01</td>\n",
       "      <td>30.433607</td>\n",
       "      <td>6.0</td>\n",
       "      <td>70.0</td>\n",
       "      <td>87.0</td>\n",
       "      <td>107.0</td>\n",
       "      <td>336.0</td>\n",
       "    </tr>\n",
       "    <tr>\n",
       "      <th>ESV</th>\n",
       "      <td>7298.0</td>\n",
       "      <td>3.109646e+01</td>\n",
       "      <td>22.555449</td>\n",
       "      <td>3.0</td>\n",
       "      <td>18.0</td>\n",
       "      <td>25.0</td>\n",
       "      <td>36.0</td>\n",
       "      <td>343.0</td>\n",
       "    </tr>\n",
       "    <tr>\n",
       "      <th>SV</th>\n",
       "      <td>7300.0</td>\n",
       "      <td>5.784082e+01</td>\n",
       "      <td>18.756284</td>\n",
       "      <td>5.0</td>\n",
       "      <td>45.0</td>\n",
       "      <td>57.0</td>\n",
       "      <td>70.0</td>\n",
       "      <td>186.0</td>\n",
       "    </tr>\n",
       "    <tr>\n",
       "      <th>EF(%)</th>\n",
       "      <td>7301.0</td>\n",
       "      <td>5.780619e+01</td>\n",
       "      <td>7.539238</td>\n",
       "      <td>20.0</td>\n",
       "      <td>58.0</td>\n",
       "      <td>60.0</td>\n",
       "      <td>61.0</td>\n",
       "      <td>76.0</td>\n",
       "    </tr>\n",
       "    <tr>\n",
       "      <th>MV_E</th>\n",
       "      <td>7286.0</td>\n",
       "      <td>7.816292e+01</td>\n",
       "      <td>22.767735</td>\n",
       "      <td>11.0</td>\n",
       "      <td>61.0</td>\n",
       "      <td>76.0</td>\n",
       "      <td>93.0</td>\n",
       "      <td>186.0</td>\n",
       "    </tr>\n",
       "    <tr>\n",
       "      <th>MV_A</th>\n",
       "      <td>7231.0</td>\n",
       "      <td>7.523275e+01</td>\n",
       "      <td>20.956489</td>\n",
       "      <td>10.0</td>\n",
       "      <td>60.0</td>\n",
       "      <td>73.0</td>\n",
       "      <td>89.0</td>\n",
       "      <td>180.0</td>\n",
       "    </tr>\n",
       "    <tr>\n",
       "      <th>TV_E</th>\n",
       "      <td>7279.0</td>\n",
       "      <td>5.260049e+01</td>\n",
       "      <td>13.989123</td>\n",
       "      <td>20.0</td>\n",
       "      <td>43.0</td>\n",
       "      <td>51.0</td>\n",
       "      <td>61.0</td>\n",
       "      <td>152.0</td>\n",
       "    </tr>\n",
       "    <tr>\n",
       "      <th>TV_A</th>\n",
       "      <td>7254.0</td>\n",
       "      <td>4.839620e+01</td>\n",
       "      <td>13.549341</td>\n",
       "      <td>15.0</td>\n",
       "      <td>39.0</td>\n",
       "      <td>46.0</td>\n",
       "      <td>56.0</td>\n",
       "      <td>158.0</td>\n",
       "    </tr>\n",
       "    <tr>\n",
       "      <th>AV_VMAX</th>\n",
       "      <td>7278.0</td>\n",
       "      <td>1.282487e+02</td>\n",
       "      <td>25.198816</td>\n",
       "      <td>16.0</td>\n",
       "      <td>111.0</td>\n",
       "      <td>126.0</td>\n",
       "      <td>142.0</td>\n",
       "      <td>304.0</td>\n",
       "    </tr>\n",
       "    <tr>\n",
       "      <th>PV_VMAX</th>\n",
       "      <td>7264.0</td>\n",
       "      <td>1.032061e+02</td>\n",
       "      <td>20.671704</td>\n",
       "      <td>40.0</td>\n",
       "      <td>90.0</td>\n",
       "      <td>101.0</td>\n",
       "      <td>115.0</td>\n",
       "      <td>199.0</td>\n",
       "    </tr>\n",
       "    <tr>\n",
       "      <th>coding</th>\n",
       "      <td>7304.0</td>\n",
       "      <td>1.523823e-01</td>\n",
       "      <td>0.359416</td>\n",
       "      <td>0.0</td>\n",
       "      <td>0.0</td>\n",
       "      <td>0.0</td>\n",
       "      <td>0.0</td>\n",
       "      <td>1.0</td>\n",
       "    </tr>\n",
       "  </tbody>\n",
       "</table>\n",
       "</div>\n",
       "      <button class=\"colab-df-convert\" onclick=\"convertToInteractive('df-741a231f-9205-4bf3-bf9e-c267f8f09c50')\"\n",
       "              title=\"Convert this dataframe to an interactive table.\"\n",
       "              style=\"display:none;\">\n",
       "        \n",
       "  <svg xmlns=\"http://www.w3.org/2000/svg\" height=\"24px\"viewBox=\"0 0 24 24\"\n",
       "       width=\"24px\">\n",
       "    <path d=\"M0 0h24v24H0V0z\" fill=\"none\"/>\n",
       "    <path d=\"M18.56 5.44l.94 2.06.94-2.06 2.06-.94-2.06-.94-.94-2.06-.94 2.06-2.06.94zm-11 1L8.5 8.5l.94-2.06 2.06-.94-2.06-.94L8.5 2.5l-.94 2.06-2.06.94zm10 10l.94 2.06.94-2.06 2.06-.94-2.06-.94-.94-2.06-.94 2.06-2.06.94z\"/><path d=\"M17.41 7.96l-1.37-1.37c-.4-.4-.92-.59-1.43-.59-.52 0-1.04.2-1.43.59L10.3 9.45l-7.72 7.72c-.78.78-.78 2.05 0 2.83L4 21.41c.39.39.9.59 1.41.59.51 0 1.02-.2 1.41-.59l7.78-7.78 2.81-2.81c.8-.78.8-2.07 0-2.86zM5.41 20L4 18.59l7.72-7.72 1.47 1.35L5.41 20z\"/>\n",
       "  </svg>\n",
       "      </button>\n",
       "      \n",
       "  <style>\n",
       "    .colab-df-container {\n",
       "      display:flex;\n",
       "      flex-wrap:wrap;\n",
       "      gap: 12px;\n",
       "    }\n",
       "\n",
       "    .colab-df-convert {\n",
       "      background-color: #E8F0FE;\n",
       "      border: none;\n",
       "      border-radius: 50%;\n",
       "      cursor: pointer;\n",
       "      display: none;\n",
       "      fill: #1967D2;\n",
       "      height: 32px;\n",
       "      padding: 0 0 0 0;\n",
       "      width: 32px;\n",
       "    }\n",
       "\n",
       "    .colab-df-convert:hover {\n",
       "      background-color: #E2EBFA;\n",
       "      box-shadow: 0px 1px 2px rgba(60, 64, 67, 0.3), 0px 1px 3px 1px rgba(60, 64, 67, 0.15);\n",
       "      fill: #174EA6;\n",
       "    }\n",
       "\n",
       "    [theme=dark] .colab-df-convert {\n",
       "      background-color: #3B4455;\n",
       "      fill: #D2E3FC;\n",
       "    }\n",
       "\n",
       "    [theme=dark] .colab-df-convert:hover {\n",
       "      background-color: #434B5C;\n",
       "      box-shadow: 0px 1px 3px 1px rgba(0, 0, 0, 0.15);\n",
       "      filter: drop-shadow(0px 1px 2px rgba(0, 0, 0, 0.3));\n",
       "      fill: #FFFFFF;\n",
       "    }\n",
       "  </style>\n",
       "\n",
       "      <script>\n",
       "        const buttonEl =\n",
       "          document.querySelector('#df-741a231f-9205-4bf3-bf9e-c267f8f09c50 button.colab-df-convert');\n",
       "        buttonEl.style.display =\n",
       "          google.colab.kernel.accessAllowed ? 'block' : 'none';\n",
       "\n",
       "        async function convertToInteractive(key) {\n",
       "          const element = document.querySelector('#df-741a231f-9205-4bf3-bf9e-c267f8f09c50');\n",
       "          const dataTable =\n",
       "            await google.colab.kernel.invokeFunction('convertToInteractive',\n",
       "                                                     [key], {});\n",
       "          if (!dataTable) return;\n",
       "\n",
       "          const docLinkHtml = 'Like what you see? Visit the ' +\n",
       "            '<a target=\"_blank\" href=https://colab.research.google.com/notebooks/data_table.ipynb>data table notebook</a>'\n",
       "            + ' to learn more about interactive tables.';\n",
       "          element.innerHTML = '';\n",
       "          dataTable['output_type'] = 'display_data';\n",
       "          await google.colab.output.renderOutput(dataTable, element);\n",
       "          const docLink = document.createElement('div');\n",
       "          docLink.innerHTML = docLinkHtml;\n",
       "          element.appendChild(docLink);\n",
       "        }\n",
       "      </script>\n",
       "    </div>\n",
       "  </div>\n",
       "  "
      ],
      "text/plain": [
       "          count          mean            std   min        25%        50%  \\\n",
       "Month    7304.0  6.459885e+00       3.473738   1.0        3.0        7.0   \n",
       "IP No    7304.0  1.517440e+06  139761.621396  -1.0  1488204.0  1535274.5   \n",
       "Age      7304.0  5.100657e+01      14.783673  18.0       41.0       52.0   \n",
       "AO       7302.0  2.670337e+01       3.371763  16.0       24.0       27.0   \n",
       "LA       7304.0  3.017894e+01       4.602316  10.0       27.0       30.0   \n",
       "L VID_d  7303.0  4.370231e+01       6.073895   7.0       40.0       44.0   \n",
       "L VID_s  7304.0  2.861035e+01       6.092548   5.0       25.0       28.0   \n",
       "IVS_d    7299.0  8.883272e+00       2.558029   3.0        8.0        9.0   \n",
       "IVS_S    7299.0  1.322496e+01       2.822817   3.0       12.0       13.0   \n",
       "LVPW_d   7301.0  8.892480e+00       2.941125   3.0        8.0        9.0   \n",
       "LVPW_s   7301.0  1.335584e+01       3.754076   5.0       11.0       13.0   \n",
       "EDV      7299.0  9.062433e+01      30.433607   6.0       70.0       87.0   \n",
       "ESV      7298.0  3.109646e+01      22.555449   3.0       18.0       25.0   \n",
       "SV       7300.0  5.784082e+01      18.756284   5.0       45.0       57.0   \n",
       "EF(%)    7301.0  5.780619e+01       7.539238  20.0       58.0       60.0   \n",
       "MV_E     7286.0  7.816292e+01      22.767735  11.0       61.0       76.0   \n",
       "MV_A     7231.0  7.523275e+01      20.956489  10.0       60.0       73.0   \n",
       "TV_E     7279.0  5.260049e+01      13.989123  20.0       43.0       51.0   \n",
       "TV_A     7254.0  4.839620e+01      13.549341  15.0       39.0       46.0   \n",
       "AV_VMAX  7278.0  1.282487e+02      25.198816  16.0      111.0      126.0   \n",
       "PV_VMAX  7264.0  1.032061e+02      20.671704  40.0       90.0      101.0   \n",
       "coding   7304.0  1.523823e-01       0.359416   0.0        0.0        0.0   \n",
       "\n",
       "               75%        max  \n",
       "Month          9.0       12.0  \n",
       "IP No    1586062.5  1643615.0  \n",
       "Age           62.0       96.0  \n",
       "AO            29.0       53.0  \n",
       "LA            33.0       61.0  \n",
       "L VID_d       48.0       79.0  \n",
       "L VID_s       31.0       70.0  \n",
       "IVS_d         10.0       90.0  \n",
       "IVS_S         15.0       70.0  \n",
       "LVPW_d        10.0       99.0  \n",
       "LVPW_s        15.0      110.0  \n",
       "EDV          107.0      336.0  \n",
       "ESV           36.0      343.0  \n",
       "SV            70.0      186.0  \n",
       "EF(%)         61.0       76.0  \n",
       "MV_E          93.0      186.0  \n",
       "MV_A          89.0      180.0  \n",
       "TV_E          61.0      152.0  \n",
       "TV_A          56.0      158.0  \n",
       "AV_VMAX      142.0      304.0  \n",
       "PV_VMAX      115.0      199.0  \n",
       "coding         0.0        1.0  "
      ]
     },
     "execution_count": 6,
     "metadata": {},
     "output_type": "execute_result"
    }
   ],
   "source": [
    "describe=newsheet2.describe().T\n",
    "describe"
   ]
  },
  {
   "cell_type": "markdown",
   "id": "073fb303",
   "metadata": {
    "id": "073fb303"
   },
   "source": [
    "## **See the sheet2 null values**."
   ]
  },
  {
   "cell_type": "code",
   "execution_count": null,
   "id": "8591dd5b",
   "metadata": {
    "colab": {
     "base_uri": "https://localhost:8080/"
    },
    "id": "8591dd5b",
    "outputId": "bfdf4824-644e-45ff-aaac-ec1a90c026cd"
   },
   "outputs": [
    {
     "data": {
      "text/plain": [
       "Date          0\n",
       "Month         0\n",
       "Time          0\n",
       "IP No         0\n",
       "Sex           0\n",
       "Age           0\n",
       "Place         0\n",
       "AO            2\n",
       "LA            0\n",
       "RV            0\n",
       "L VID_d       1\n",
       "L VID_s       0\n",
       "IVS_d         5\n",
       "IVS_S         5\n",
       "LVPW_d        3\n",
       "LVPW_s        3\n",
       "EDV           5\n",
       "ESV           6\n",
       "SV            4\n",
       "EF(%)         3\n",
       "FS(%)         9\n",
       "MV_E         18\n",
       "MV_A         73\n",
       "MR            0\n",
       "TV_E         25\n",
       "TV_A         50\n",
       "TR            0\n",
       "AV_VMAX      26\n",
       "PV_VMAX      40\n",
       "Diagnosis     0\n",
       "coding        0\n",
       "dtype: int64"
      ]
     },
     "execution_count": 7,
     "metadata": {},
     "output_type": "execute_result"
    }
   ],
   "source": [
    "newsheet2.isnull().sum()\n"
   ]
  },
  {
   "cell_type": "markdown",
   "id": "86f3f8e3",
   "metadata": {
    "id": "86f3f8e3"
   },
   "source": [
    "# **Drop The Duplicate Values In \"IP No\"**."
   ]
  },
  {
   "cell_type": "code",
   "execution_count": null,
   "id": "9c1542e1",
   "metadata": {
    "id": "9c1542e1"
   },
   "outputs": [],
   "source": [
    "newsheet2=newsheet2.drop_duplicates(subset='IP No',keep='first', inplace=False, ignore_index=False)"
   ]
  },
  {
   "cell_type": "markdown",
   "id": "b02680f7",
   "metadata": {
    "id": "b02680f7"
   },
   "source": [
    "# **Fill the null values**."
   ]
  },
  {
   "cell_type": "code",
   "execution_count": null,
   "id": "2d666f3e",
   "metadata": {
    "colab": {
     "base_uri": "https://localhost:8080/",
     "height": 423
    },
    "id": "2d666f3e",
    "outputId": "4a976a88-0936-4953-dfb3-d819e53acf4e"
   },
   "outputs": [
    {
     "data": {
      "text/html": [
       "\n",
       "  <div id=\"df-08c20181-6d66-46f2-8d0c-ad84bd10f40b\">\n",
       "    <div class=\"colab-df-container\">\n",
       "      <div>\n",
       "<style scoped>\n",
       "    .dataframe tbody tr th:only-of-type {\n",
       "        vertical-align: middle;\n",
       "    }\n",
       "\n",
       "    .dataframe tbody tr th {\n",
       "        vertical-align: top;\n",
       "    }\n",
       "\n",
       "    .dataframe thead th {\n",
       "        text-align: right;\n",
       "    }\n",
       "</style>\n",
       "<table border=\"1\" class=\"dataframe\">\n",
       "  <thead>\n",
       "    <tr style=\"text-align: right;\">\n",
       "      <th></th>\n",
       "      <th>Date</th>\n",
       "      <th>Month</th>\n",
       "      <th>Time</th>\n",
       "      <th>IP No</th>\n",
       "      <th>Sex</th>\n",
       "      <th>Age</th>\n",
       "      <th>Place</th>\n",
       "      <th>AO</th>\n",
       "      <th>LA</th>\n",
       "      <th>RV</th>\n",
       "      <th>...</th>\n",
       "      <th>MV_E</th>\n",
       "      <th>MV_A</th>\n",
       "      <th>MR</th>\n",
       "      <th>TV_E</th>\n",
       "      <th>TV_A</th>\n",
       "      <th>TR</th>\n",
       "      <th>AV_VMAX</th>\n",
       "      <th>PV_VMAX</th>\n",
       "      <th>Diagnosis</th>\n",
       "      <th>coding</th>\n",
       "    </tr>\n",
       "  </thead>\n",
       "  <tbody>\n",
       "    <tr>\n",
       "      <th>0</th>\n",
       "      <td>2016-08-01 00:00:00</td>\n",
       "      <td>1</td>\n",
       "      <td>11:10:00</td>\n",
       "      <td>1473275</td>\n",
       "      <td>F</td>\n",
       "      <td>18</td>\n",
       "      <td>MANDYA</td>\n",
       "      <td>21.0</td>\n",
       "      <td>23</td>\n",
       "      <td>22</td>\n",
       "      <td>...</td>\n",
       "      <td>105.0</td>\n",
       "      <td>56.0</td>\n",
       "      <td>Nil</td>\n",
       "      <td>60.0</td>\n",
       "      <td>33.0</td>\n",
       "      <td>Nil</td>\n",
       "      <td>176.0</td>\n",
       "      <td>149.0</td>\n",
       "      <td>No</td>\n",
       "      <td>0</td>\n",
       "    </tr>\n",
       "    <tr>\n",
       "      <th>1</th>\n",
       "      <td>2016-08-01 00:00:00</td>\n",
       "      <td>1</td>\n",
       "      <td>16:16:00</td>\n",
       "      <td>1474255</td>\n",
       "      <td>F</td>\n",
       "      <td>18</td>\n",
       "      <td>HASSAN</td>\n",
       "      <td>21.0</td>\n",
       "      <td>22</td>\n",
       "      <td>14</td>\n",
       "      <td>...</td>\n",
       "      <td>75.0</td>\n",
       "      <td>46.0</td>\n",
       "      <td>Nil</td>\n",
       "      <td>65.0</td>\n",
       "      <td>94.0</td>\n",
       "      <td>Nil</td>\n",
       "      <td>163.0</td>\n",
       "      <td>90.0</td>\n",
       "      <td>No</td>\n",
       "      <td>0</td>\n",
       "    </tr>\n",
       "    <tr>\n",
       "      <th>2</th>\n",
       "      <td>31-01-2016</td>\n",
       "      <td>1</td>\n",
       "      <td>08:29:00</td>\n",
       "      <td>1441880</td>\n",
       "      <td>M</td>\n",
       "      <td>18</td>\n",
       "      <td>MYSURU</td>\n",
       "      <td>23.0</td>\n",
       "      <td>34</td>\n",
       "      <td>20</td>\n",
       "      <td>...</td>\n",
       "      <td>57.0</td>\n",
       "      <td>103.0</td>\n",
       "      <td>Nil</td>\n",
       "      <td>41.0</td>\n",
       "      <td>50.0</td>\n",
       "      <td>Nil</td>\n",
       "      <td>112.0</td>\n",
       "      <td>115.0</td>\n",
       "      <td>No</td>\n",
       "      <td>0</td>\n",
       "    </tr>\n",
       "    <tr>\n",
       "      <th>3</th>\n",
       "      <td>22-02-2016</td>\n",
       "      <td>2</td>\n",
       "      <td>10:53:00</td>\n",
       "      <td>-1</td>\n",
       "      <td>M</td>\n",
       "      <td>18</td>\n",
       "      <td>AGARTALA</td>\n",
       "      <td>26.0</td>\n",
       "      <td>27</td>\n",
       "      <td>16</td>\n",
       "      <td>...</td>\n",
       "      <td>108.0</td>\n",
       "      <td>62.0</td>\n",
       "      <td>Nil</td>\n",
       "      <td>83.0</td>\n",
       "      <td>51.0</td>\n",
       "      <td>Nil</td>\n",
       "      <td>153.0</td>\n",
       "      <td>158.0</td>\n",
       "      <td>No</td>\n",
       "      <td>0</td>\n",
       "    </tr>\n",
       "    <tr>\n",
       "      <th>4</th>\n",
       "      <td>2016-06-02 00:00:00</td>\n",
       "      <td>2</td>\n",
       "      <td>13:03:00</td>\n",
       "      <td>1486582</td>\n",
       "      <td>M</td>\n",
       "      <td>18</td>\n",
       "      <td>MYSURU</td>\n",
       "      <td>26.0</td>\n",
       "      <td>21</td>\n",
       "      <td>18</td>\n",
       "      <td>...</td>\n",
       "      <td>94.0</td>\n",
       "      <td>47.0</td>\n",
       "      <td>Nil</td>\n",
       "      <td>68.0</td>\n",
       "      <td>58.0</td>\n",
       "      <td>Nil</td>\n",
       "      <td>155.0</td>\n",
       "      <td>144.0</td>\n",
       "      <td>No</td>\n",
       "      <td>0</td>\n",
       "    </tr>\n",
       "    <tr>\n",
       "      <th>...</th>\n",
       "      <td>...</td>\n",
       "      <td>...</td>\n",
       "      <td>...</td>\n",
       "      <td>...</td>\n",
       "      <td>...</td>\n",
       "      <td>...</td>\n",
       "      <td>...</td>\n",
       "      <td>...</td>\n",
       "      <td>...</td>\n",
       "      <td>...</td>\n",
       "      <td>...</td>\n",
       "      <td>...</td>\n",
       "      <td>...</td>\n",
       "      <td>...</td>\n",
       "      <td>...</td>\n",
       "      <td>...</td>\n",
       "      <td>...</td>\n",
       "      <td>...</td>\n",
       "      <td>...</td>\n",
       "      <td>...</td>\n",
       "      <td>...</td>\n",
       "    </tr>\n",
       "    <tr>\n",
       "      <th>7299</th>\n",
       "      <td>19-08-2016</td>\n",
       "      <td>8</td>\n",
       "      <td>15:29:00</td>\n",
       "      <td>1578307</td>\n",
       "      <td>M</td>\n",
       "      <td>90</td>\n",
       "      <td>MYSURU</td>\n",
       "      <td>23.0</td>\n",
       "      <td>24</td>\n",
       "      <td>16</td>\n",
       "      <td>...</td>\n",
       "      <td>47.0</td>\n",
       "      <td>72.0</td>\n",
       "      <td>Nil</td>\n",
       "      <td>48.0</td>\n",
       "      <td>41.0</td>\n",
       "      <td>0.25</td>\n",
       "      <td>78.0</td>\n",
       "      <td>92.0</td>\n",
       "      <td>No</td>\n",
       "      <td>0</td>\n",
       "    </tr>\n",
       "    <tr>\n",
       "      <th>7300</th>\n",
       "      <td>17-12-2016</td>\n",
       "      <td>12</td>\n",
       "      <td>15:21:00</td>\n",
       "      <td>1636812</td>\n",
       "      <td>M</td>\n",
       "      <td>90</td>\n",
       "      <td>MYSURU</td>\n",
       "      <td>32.0</td>\n",
       "      <td>28</td>\n",
       "      <td>19</td>\n",
       "      <td>...</td>\n",
       "      <td>39.0</td>\n",
       "      <td>71.0</td>\n",
       "      <td>0.25</td>\n",
       "      <td>37.0</td>\n",
       "      <td>48.0</td>\n",
       "      <td>0.5</td>\n",
       "      <td>130.0</td>\n",
       "      <td>85.0</td>\n",
       "      <td>No</td>\n",
       "      <td>0</td>\n",
       "    </tr>\n",
       "    <tr>\n",
       "      <th>7301</th>\n",
       "      <td>29-01-2016</td>\n",
       "      <td>1</td>\n",
       "      <td>10:42:00</td>\n",
       "      <td>1483291</td>\n",
       "      <td>M</td>\n",
       "      <td>92</td>\n",
       "      <td>MYSURU</td>\n",
       "      <td>29.0</td>\n",
       "      <td>38</td>\n",
       "      <td>22</td>\n",
       "      <td>...</td>\n",
       "      <td>41.0</td>\n",
       "      <td>84.0</td>\n",
       "      <td>0.25</td>\n",
       "      <td>38.0</td>\n",
       "      <td>50.0</td>\n",
       "      <td>Nil</td>\n",
       "      <td>115.0</td>\n",
       "      <td>71.0</td>\n",
       "      <td>No</td>\n",
       "      <td>0</td>\n",
       "    </tr>\n",
       "    <tr>\n",
       "      <th>7302</th>\n",
       "      <td>2016-12-04 00:00:00</td>\n",
       "      <td>4</td>\n",
       "      <td>11:42:00</td>\n",
       "      <td>1516291</td>\n",
       "      <td>F</td>\n",
       "      <td>95</td>\n",
       "      <td>HASSAN</td>\n",
       "      <td>22.0</td>\n",
       "      <td>37</td>\n",
       "      <td>19</td>\n",
       "      <td>...</td>\n",
       "      <td>77.0</td>\n",
       "      <td>116.0</td>\n",
       "      <td>0.25</td>\n",
       "      <td>41.0</td>\n",
       "      <td>79.0</td>\n",
       "      <td>0.5</td>\n",
       "      <td>174.0</td>\n",
       "      <td>74.0</td>\n",
       "      <td>Yes</td>\n",
       "      <td>1</td>\n",
       "    </tr>\n",
       "    <tr>\n",
       "      <th>7303</th>\n",
       "      <td>13-01-2016</td>\n",
       "      <td>1</td>\n",
       "      <td>14:24:00</td>\n",
       "      <td>1462251</td>\n",
       "      <td>M</td>\n",
       "      <td>96</td>\n",
       "      <td>KODAGU</td>\n",
       "      <td>31.0</td>\n",
       "      <td>30</td>\n",
       "      <td>18</td>\n",
       "      <td>...</td>\n",
       "      <td>48.0</td>\n",
       "      <td>88.0</td>\n",
       "      <td>Nil</td>\n",
       "      <td>39.0</td>\n",
       "      <td>48.0</td>\n",
       "      <td>Nil</td>\n",
       "      <td>99.0</td>\n",
       "      <td>120.0</td>\n",
       "      <td>No</td>\n",
       "      <td>0</td>\n",
       "    </tr>\n",
       "  </tbody>\n",
       "</table>\n",
       "<p>6960 rows × 31 columns</p>\n",
       "</div>\n",
       "      <button class=\"colab-df-convert\" onclick=\"convertToInteractive('df-08c20181-6d66-46f2-8d0c-ad84bd10f40b')\"\n",
       "              title=\"Convert this dataframe to an interactive table.\"\n",
       "              style=\"display:none;\">\n",
       "        \n",
       "  <svg xmlns=\"http://www.w3.org/2000/svg\" height=\"24px\"viewBox=\"0 0 24 24\"\n",
       "       width=\"24px\">\n",
       "    <path d=\"M0 0h24v24H0V0z\" fill=\"none\"/>\n",
       "    <path d=\"M18.56 5.44l.94 2.06.94-2.06 2.06-.94-2.06-.94-.94-2.06-.94 2.06-2.06.94zm-11 1L8.5 8.5l.94-2.06 2.06-.94-2.06-.94L8.5 2.5l-.94 2.06-2.06.94zm10 10l.94 2.06.94-2.06 2.06-.94-2.06-.94-.94-2.06-.94 2.06-2.06.94z\"/><path d=\"M17.41 7.96l-1.37-1.37c-.4-.4-.92-.59-1.43-.59-.52 0-1.04.2-1.43.59L10.3 9.45l-7.72 7.72c-.78.78-.78 2.05 0 2.83L4 21.41c.39.39.9.59 1.41.59.51 0 1.02-.2 1.41-.59l7.78-7.78 2.81-2.81c.8-.78.8-2.07 0-2.86zM5.41 20L4 18.59l7.72-7.72 1.47 1.35L5.41 20z\"/>\n",
       "  </svg>\n",
       "      </button>\n",
       "      \n",
       "  <style>\n",
       "    .colab-df-container {\n",
       "      display:flex;\n",
       "      flex-wrap:wrap;\n",
       "      gap: 12px;\n",
       "    }\n",
       "\n",
       "    .colab-df-convert {\n",
       "      background-color: #E8F0FE;\n",
       "      border: none;\n",
       "      border-radius: 50%;\n",
       "      cursor: pointer;\n",
       "      display: none;\n",
       "      fill: #1967D2;\n",
       "      height: 32px;\n",
       "      padding: 0 0 0 0;\n",
       "      width: 32px;\n",
       "    }\n",
       "\n",
       "    .colab-df-convert:hover {\n",
       "      background-color: #E2EBFA;\n",
       "      box-shadow: 0px 1px 2px rgba(60, 64, 67, 0.3), 0px 1px 3px 1px rgba(60, 64, 67, 0.15);\n",
       "      fill: #174EA6;\n",
       "    }\n",
       "\n",
       "    [theme=dark] .colab-df-convert {\n",
       "      background-color: #3B4455;\n",
       "      fill: #D2E3FC;\n",
       "    }\n",
       "\n",
       "    [theme=dark] .colab-df-convert:hover {\n",
       "      background-color: #434B5C;\n",
       "      box-shadow: 0px 1px 3px 1px rgba(0, 0, 0, 0.15);\n",
       "      filter: drop-shadow(0px 1px 2px rgba(0, 0, 0, 0.3));\n",
       "      fill: #FFFFFF;\n",
       "    }\n",
       "  </style>\n",
       "\n",
       "      <script>\n",
       "        const buttonEl =\n",
       "          document.querySelector('#df-08c20181-6d66-46f2-8d0c-ad84bd10f40b button.colab-df-convert');\n",
       "        buttonEl.style.display =\n",
       "          google.colab.kernel.accessAllowed ? 'block' : 'none';\n",
       "\n",
       "        async function convertToInteractive(key) {\n",
       "          const element = document.querySelector('#df-08c20181-6d66-46f2-8d0c-ad84bd10f40b');\n",
       "          const dataTable =\n",
       "            await google.colab.kernel.invokeFunction('convertToInteractive',\n",
       "                                                     [key], {});\n",
       "          if (!dataTable) return;\n",
       "\n",
       "          const docLinkHtml = 'Like what you see? Visit the ' +\n",
       "            '<a target=\"_blank\" href=https://colab.research.google.com/notebooks/data_table.ipynb>data table notebook</a>'\n",
       "            + ' to learn more about interactive tables.';\n",
       "          element.innerHTML = '';\n",
       "          dataTable['output_type'] = 'display_data';\n",
       "          await google.colab.output.renderOutput(dataTable, element);\n",
       "          const docLink = document.createElement('div');\n",
       "          docLink.innerHTML = docLinkHtml;\n",
       "          element.appendChild(docLink);\n",
       "        }\n",
       "      </script>\n",
       "    </div>\n",
       "  </div>\n",
       "  "
      ],
      "text/plain": [
       "                     Date  Month      Time    IP No Sex  Age     Place    AO  \\\n",
       "0     2016-08-01 00:00:00      1  11:10:00  1473275   F   18    MANDYA  21.0   \n",
       "1     2016-08-01 00:00:00      1  16:16:00  1474255   F   18    HASSAN  21.0   \n",
       "2              31-01-2016      1  08:29:00  1441880   M   18    MYSURU  23.0   \n",
       "3              22-02-2016      2  10:53:00       -1   M   18  AGARTALA  26.0   \n",
       "4     2016-06-02 00:00:00      2  13:03:00  1486582   M   18    MYSURU  26.0   \n",
       "...                   ...    ...       ...      ...  ..  ...       ...   ...   \n",
       "7299           19-08-2016      8  15:29:00  1578307   M   90    MYSURU  23.0   \n",
       "7300           17-12-2016     12  15:21:00  1636812   M   90    MYSURU  32.0   \n",
       "7301           29-01-2016      1  10:42:00  1483291   M   92    MYSURU  29.0   \n",
       "7302  2016-12-04 00:00:00      4  11:42:00  1516291   F   95    HASSAN  22.0   \n",
       "7303           13-01-2016      1  14:24:00  1462251   M   96    KODAGU  31.0   \n",
       "\n",
       "      LA  RV  ...   MV_E   MV_A    MR  TV_E  TV_A    TR  AV_VMAX  PV_VMAX  \\\n",
       "0     23  22  ...  105.0   56.0   Nil  60.0  33.0   Nil    176.0    149.0   \n",
       "1     22  14  ...   75.0   46.0   Nil  65.0  94.0   Nil    163.0     90.0   \n",
       "2     34  20  ...   57.0  103.0   Nil  41.0  50.0   Nil    112.0    115.0   \n",
       "3     27  16  ...  108.0   62.0   Nil  83.0  51.0   Nil    153.0    158.0   \n",
       "4     21  18  ...   94.0   47.0   Nil  68.0  58.0   Nil    155.0    144.0   \n",
       "...   ..  ..  ...    ...    ...   ...   ...   ...   ...      ...      ...   \n",
       "7299  24  16  ...   47.0   72.0   Nil  48.0  41.0  0.25     78.0     92.0   \n",
       "7300  28  19  ...   39.0   71.0  0.25  37.0  48.0   0.5    130.0     85.0   \n",
       "7301  38  22  ...   41.0   84.0  0.25  38.0  50.0   Nil    115.0     71.0   \n",
       "7302  37  19  ...   77.0  116.0  0.25  41.0  79.0   0.5    174.0     74.0   \n",
       "7303  30  18  ...   48.0   88.0   Nil  39.0  48.0   Nil     99.0    120.0   \n",
       "\n",
       "      Diagnosis  coding  \n",
       "0            No       0  \n",
       "1            No       0  \n",
       "2            No       0  \n",
       "3            No       0  \n",
       "4            No       0  \n",
       "...         ...     ...  \n",
       "7299         No       0  \n",
       "7300         No       0  \n",
       "7301         No       0  \n",
       "7302        Yes       1  \n",
       "7303         No       0  \n",
       "\n",
       "[6960 rows x 31 columns]"
      ]
     },
     "execution_count": 9,
     "metadata": {},
     "output_type": "execute_result"
    }
   ],
   "source": [
    "newsheet2.fillna(method='ffill')"
   ]
  },
  {
   "cell_type": "code",
   "execution_count": null,
   "id": "ecf0b997",
   "metadata": {
    "colab": {
     "base_uri": "https://localhost:8080/"
    },
    "id": "ecf0b997",
    "outputId": "265af047-b3cf-4274-c0dd-6f29fcc496d8"
   },
   "outputs": [
    {
     "name": "stderr",
     "output_type": "stream",
     "text": [
      "/usr/local/lib/python3.7/dist-packages/ipykernel_launcher.py:1: SettingWithCopyWarning: \n",
      "A value is trying to be set on a copy of a slice from a DataFrame.\n",
      "Try using .loc[row_indexer,col_indexer] = value instead\n",
      "\n",
      "See the caveats in the documentation: https://pandas.pydata.org/pandas-docs/stable/user_guide/indexing.html#returning-a-view-versus-a-copy\n",
      "  \"\"\"Entry point for launching an IPython kernel.\n"
     ]
    }
   ],
   "source": [
    "newsheet2[\"AO\"]=newsheet2[\"AO\"].fillna(0)"
   ]
  },
  {
   "cell_type": "code",
   "execution_count": null,
   "id": "cef10eb4",
   "metadata": {
    "colab": {
     "base_uri": "https://localhost:8080/"
    },
    "id": "cef10eb4",
    "outputId": "9327edec-ba3b-4c60-90eb-b207e2c780b1"
   },
   "outputs": [
    {
     "name": "stderr",
     "output_type": "stream",
     "text": [
      "/usr/local/lib/python3.7/dist-packages/ipykernel_launcher.py:1: SettingWithCopyWarning: \n",
      "A value is trying to be set on a copy of a slice from a DataFrame.\n",
      "Try using .loc[row_indexer,col_indexer] = value instead\n",
      "\n",
      "See the caveats in the documentation: https://pandas.pydata.org/pandas-docs/stable/user_guide/indexing.html#returning-a-view-versus-a-copy\n",
      "  \"\"\"Entry point for launching an IPython kernel.\n"
     ]
    }
   ],
   "source": [
    "newsheet2[\"L VID_d\"]=newsheet2[\"L VID_d\"].fillna(0)"
   ]
  },
  {
   "cell_type": "code",
   "execution_count": null,
   "id": "f74ef179",
   "metadata": {
    "colab": {
     "base_uri": "https://localhost:8080/"
    },
    "id": "f74ef179",
    "outputId": "4604bc71-fabe-468e-adf0-8dc98dd4314a"
   },
   "outputs": [
    {
     "name": "stderr",
     "output_type": "stream",
     "text": [
      "/usr/local/lib/python3.7/dist-packages/ipykernel_launcher.py:1: SettingWithCopyWarning: \n",
      "A value is trying to be set on a copy of a slice from a DataFrame.\n",
      "Try using .loc[row_indexer,col_indexer] = value instead\n",
      "\n",
      "See the caveats in the documentation: https://pandas.pydata.org/pandas-docs/stable/user_guide/indexing.html#returning-a-view-versus-a-copy\n",
      "  \"\"\"Entry point for launching an IPython kernel.\n"
     ]
    }
   ],
   "source": [
    "newsheet2[\"IVS_d\"]=newsheet2[\"IVS_d\"].fillna(0)"
   ]
  },
  {
   "cell_type": "code",
   "execution_count": null,
   "id": "b99e300d",
   "metadata": {
    "colab": {
     "base_uri": "https://localhost:8080/"
    },
    "id": "b99e300d",
    "outputId": "565ec039-ded8-4fb4-d653-2d8907daa09a"
   },
   "outputs": [
    {
     "name": "stderr",
     "output_type": "stream",
     "text": [
      "/usr/local/lib/python3.7/dist-packages/ipykernel_launcher.py:1: SettingWithCopyWarning: \n",
      "A value is trying to be set on a copy of a slice from a DataFrame.\n",
      "Try using .loc[row_indexer,col_indexer] = value instead\n",
      "\n",
      "See the caveats in the documentation: https://pandas.pydata.org/pandas-docs/stable/user_guide/indexing.html#returning-a-view-versus-a-copy\n",
      "  \"\"\"Entry point for launching an IPython kernel.\n"
     ]
    }
   ],
   "source": [
    "newsheet2[\"IVS_S\"]=newsheet2[\"IVS_S\"].fillna(0)"
   ]
  },
  {
   "cell_type": "code",
   "execution_count": null,
   "id": "3b153f2f",
   "metadata": {
    "colab": {
     "base_uri": "https://localhost:8080/"
    },
    "id": "3b153f2f",
    "outputId": "0c09ecb7-63fe-4b36-edea-59bc5b4e4e25"
   },
   "outputs": [
    {
     "name": "stderr",
     "output_type": "stream",
     "text": [
      "/usr/local/lib/python3.7/dist-packages/ipykernel_launcher.py:1: SettingWithCopyWarning: \n",
      "A value is trying to be set on a copy of a slice from a DataFrame.\n",
      "Try using .loc[row_indexer,col_indexer] = value instead\n",
      "\n",
      "See the caveats in the documentation: https://pandas.pydata.org/pandas-docs/stable/user_guide/indexing.html#returning-a-view-versus-a-copy\n",
      "  \"\"\"Entry point for launching an IPython kernel.\n"
     ]
    }
   ],
   "source": [
    "newsheet2[\"LVPW_d\"]=newsheet2[\"LVPW_d\"].fillna(0)"
   ]
  },
  {
   "cell_type": "code",
   "execution_count": null,
   "id": "db225e4e",
   "metadata": {
    "colab": {
     "base_uri": "https://localhost:8080/"
    },
    "id": "db225e4e",
    "outputId": "69693627-9e35-4687-96f3-f4762145b857"
   },
   "outputs": [
    {
     "name": "stderr",
     "output_type": "stream",
     "text": [
      "/usr/local/lib/python3.7/dist-packages/ipykernel_launcher.py:1: SettingWithCopyWarning: \n",
      "A value is trying to be set on a copy of a slice from a DataFrame.\n",
      "Try using .loc[row_indexer,col_indexer] = value instead\n",
      "\n",
      "See the caveats in the documentation: https://pandas.pydata.org/pandas-docs/stable/user_guide/indexing.html#returning-a-view-versus-a-copy\n",
      "  \"\"\"Entry point for launching an IPython kernel.\n"
     ]
    }
   ],
   "source": [
    "newsheet2[\"LVPW_s\"]=newsheet2[\"LVPW_s\"].fillna(0)"
   ]
  },
  {
   "cell_type": "code",
   "execution_count": null,
   "id": "2e6a5b43",
   "metadata": {
    "colab": {
     "base_uri": "https://localhost:8080/"
    },
    "id": "2e6a5b43",
    "outputId": "d8cb328a-c779-44b0-dc62-79b0ef97f014"
   },
   "outputs": [
    {
     "name": "stderr",
     "output_type": "stream",
     "text": [
      "/usr/local/lib/python3.7/dist-packages/ipykernel_launcher.py:1: SettingWithCopyWarning: \n",
      "A value is trying to be set on a copy of a slice from a DataFrame.\n",
      "Try using .loc[row_indexer,col_indexer] = value instead\n",
      "\n",
      "See the caveats in the documentation: https://pandas.pydata.org/pandas-docs/stable/user_guide/indexing.html#returning-a-view-versus-a-copy\n",
      "  \"\"\"Entry point for launching an IPython kernel.\n"
     ]
    }
   ],
   "source": [
    "newsheet2[\"EDV\"]=newsheet2[\"EDV\"].fillna(0)"
   ]
  },
  {
   "cell_type": "code",
   "execution_count": null,
   "id": "a5da600b",
   "metadata": {
    "colab": {
     "base_uri": "https://localhost:8080/"
    },
    "id": "a5da600b",
    "outputId": "6faa7822-e34f-4c3a-e49e-64d59464a7f5"
   },
   "outputs": [
    {
     "name": "stderr",
     "output_type": "stream",
     "text": [
      "/usr/local/lib/python3.7/dist-packages/ipykernel_launcher.py:1: SettingWithCopyWarning: \n",
      "A value is trying to be set on a copy of a slice from a DataFrame.\n",
      "Try using .loc[row_indexer,col_indexer] = value instead\n",
      "\n",
      "See the caveats in the documentation: https://pandas.pydata.org/pandas-docs/stable/user_guide/indexing.html#returning-a-view-versus-a-copy\n",
      "  \"\"\"Entry point for launching an IPython kernel.\n"
     ]
    }
   ],
   "source": [
    "newsheet2[\"ESV\"]=newsheet2[\"ESV\"].fillna(0)"
   ]
  },
  {
   "cell_type": "code",
   "execution_count": null,
   "id": "71c26df8",
   "metadata": {
    "colab": {
     "base_uri": "https://localhost:8080/"
    },
    "id": "71c26df8",
    "outputId": "afe89651-25c0-40ef-d62d-e349dac3060b"
   },
   "outputs": [
    {
     "name": "stderr",
     "output_type": "stream",
     "text": [
      "/usr/local/lib/python3.7/dist-packages/ipykernel_launcher.py:1: SettingWithCopyWarning: \n",
      "A value is trying to be set on a copy of a slice from a DataFrame.\n",
      "Try using .loc[row_indexer,col_indexer] = value instead\n",
      "\n",
      "See the caveats in the documentation: https://pandas.pydata.org/pandas-docs/stable/user_guide/indexing.html#returning-a-view-versus-a-copy\n",
      "  \"\"\"Entry point for launching an IPython kernel.\n"
     ]
    }
   ],
   "source": [
    "newsheet2[\"SV\"]=newsheet2[\"SV\"].fillna(0)"
   ]
  },
  {
   "cell_type": "code",
   "execution_count": null,
   "id": "cbd682f7",
   "metadata": {
    "colab": {
     "base_uri": "https://localhost:8080/"
    },
    "id": "cbd682f7",
    "outputId": "e54654b3-0e11-432e-a858-d294ce1aa2be"
   },
   "outputs": [
    {
     "name": "stderr",
     "output_type": "stream",
     "text": [
      "/usr/local/lib/python3.7/dist-packages/ipykernel_launcher.py:1: SettingWithCopyWarning: \n",
      "A value is trying to be set on a copy of a slice from a DataFrame.\n",
      "Try using .loc[row_indexer,col_indexer] = value instead\n",
      "\n",
      "See the caveats in the documentation: https://pandas.pydata.org/pandas-docs/stable/user_guide/indexing.html#returning-a-view-versus-a-copy\n",
      "  \"\"\"Entry point for launching an IPython kernel.\n"
     ]
    }
   ],
   "source": [
    "newsheet2[\"EF(%)\"]=newsheet2[\"EF(%)\"].fillna(0)"
   ]
  },
  {
   "cell_type": "code",
   "execution_count": null,
   "id": "a52bb868",
   "metadata": {
    "colab": {
     "base_uri": "https://localhost:8080/"
    },
    "id": "a52bb868",
    "outputId": "6ec18624-7bb2-4031-e675-7e1d5a0c4bba"
   },
   "outputs": [
    {
     "name": "stderr",
     "output_type": "stream",
     "text": [
      "/usr/local/lib/python3.7/dist-packages/ipykernel_launcher.py:1: SettingWithCopyWarning: \n",
      "A value is trying to be set on a copy of a slice from a DataFrame.\n",
      "Try using .loc[row_indexer,col_indexer] = value instead\n",
      "\n",
      "See the caveats in the documentation: https://pandas.pydata.org/pandas-docs/stable/user_guide/indexing.html#returning-a-view-versus-a-copy\n",
      "  \"\"\"Entry point for launching an IPython kernel.\n"
     ]
    }
   ],
   "source": [
    "newsheet2[\"FS(%)\"]=newsheet2[\"FS(%)\"].fillna(0)"
   ]
  },
  {
   "cell_type": "code",
   "execution_count": null,
   "id": "9360a300",
   "metadata": {
    "colab": {
     "base_uri": "https://localhost:8080/"
    },
    "id": "9360a300",
    "outputId": "cdd70a7c-704e-44e5-e025-1640f87c9fd2"
   },
   "outputs": [
    {
     "name": "stderr",
     "output_type": "stream",
     "text": [
      "/usr/local/lib/python3.7/dist-packages/ipykernel_launcher.py:1: SettingWithCopyWarning: \n",
      "A value is trying to be set on a copy of a slice from a DataFrame.\n",
      "Try using .loc[row_indexer,col_indexer] = value instead\n",
      "\n",
      "See the caveats in the documentation: https://pandas.pydata.org/pandas-docs/stable/user_guide/indexing.html#returning-a-view-versus-a-copy\n",
      "  \"\"\"Entry point for launching an IPython kernel.\n"
     ]
    }
   ],
   "source": [
    "newsheet2[\"MV_E\"]=newsheet2[\"MV_E\"].fillna(0)"
   ]
  },
  {
   "cell_type": "code",
   "execution_count": null,
   "id": "1c557d32",
   "metadata": {
    "colab": {
     "base_uri": "https://localhost:8080/"
    },
    "id": "1c557d32",
    "outputId": "eab12912-c7c7-48f5-9a34-94852c205acb"
   },
   "outputs": [
    {
     "name": "stderr",
     "output_type": "stream",
     "text": [
      "/usr/local/lib/python3.7/dist-packages/ipykernel_launcher.py:1: SettingWithCopyWarning: \n",
      "A value is trying to be set on a copy of a slice from a DataFrame.\n",
      "Try using .loc[row_indexer,col_indexer] = value instead\n",
      "\n",
      "See the caveats in the documentation: https://pandas.pydata.org/pandas-docs/stable/user_guide/indexing.html#returning-a-view-versus-a-copy\n",
      "  \"\"\"Entry point for launching an IPython kernel.\n"
     ]
    }
   ],
   "source": [
    "newsheet2[\"MV_A\"]=newsheet2[\"MV_A\"].fillna(0)"
   ]
  },
  {
   "cell_type": "code",
   "execution_count": null,
   "id": "5feb0feb",
   "metadata": {
    "colab": {
     "base_uri": "https://localhost:8080/"
    },
    "id": "5feb0feb",
    "outputId": "bc409fbb-81dd-4231-fda3-c71238cf12f9"
   },
   "outputs": [
    {
     "name": "stderr",
     "output_type": "stream",
     "text": [
      "/usr/local/lib/python3.7/dist-packages/ipykernel_launcher.py:1: SettingWithCopyWarning: \n",
      "A value is trying to be set on a copy of a slice from a DataFrame.\n",
      "Try using .loc[row_indexer,col_indexer] = value instead\n",
      "\n",
      "See the caveats in the documentation: https://pandas.pydata.org/pandas-docs/stable/user_guide/indexing.html#returning-a-view-versus-a-copy\n",
      "  \"\"\"Entry point for launching an IPython kernel.\n"
     ]
    }
   ],
   "source": [
    "newsheet2[\"TV_E\"]=newsheet2[\"TV_E\"].fillna(0)"
   ]
  },
  {
   "cell_type": "code",
   "execution_count": null,
   "id": "65d61295",
   "metadata": {
    "colab": {
     "base_uri": "https://localhost:8080/"
    },
    "id": "65d61295",
    "outputId": "32eed0b2-61bd-4029-bf52-edcb172dedf3"
   },
   "outputs": [
    {
     "name": "stderr",
     "output_type": "stream",
     "text": [
      "/usr/local/lib/python3.7/dist-packages/ipykernel_launcher.py:1: SettingWithCopyWarning: \n",
      "A value is trying to be set on a copy of a slice from a DataFrame.\n",
      "Try using .loc[row_indexer,col_indexer] = value instead\n",
      "\n",
      "See the caveats in the documentation: https://pandas.pydata.org/pandas-docs/stable/user_guide/indexing.html#returning-a-view-versus-a-copy\n",
      "  \"\"\"Entry point for launching an IPython kernel.\n"
     ]
    }
   ],
   "source": [
    "newsheet2[\"TV_A\"]=newsheet2[\"TV_A\"].fillna(0)"
   ]
  },
  {
   "cell_type": "code",
   "execution_count": null,
   "id": "f86c1d7b",
   "metadata": {
    "colab": {
     "base_uri": "https://localhost:8080/"
    },
    "id": "f86c1d7b",
    "outputId": "254923e8-f5ab-4821-803a-4aa5b43eac45"
   },
   "outputs": [
    {
     "name": "stderr",
     "output_type": "stream",
     "text": [
      "/usr/local/lib/python3.7/dist-packages/ipykernel_launcher.py:1: SettingWithCopyWarning: \n",
      "A value is trying to be set on a copy of a slice from a DataFrame.\n",
      "Try using .loc[row_indexer,col_indexer] = value instead\n",
      "\n",
      "See the caveats in the documentation: https://pandas.pydata.org/pandas-docs/stable/user_guide/indexing.html#returning-a-view-versus-a-copy\n",
      "  \"\"\"Entry point for launching an IPython kernel.\n"
     ]
    }
   ],
   "source": [
    "newsheet2[\"AV_VMAX\"]=newsheet2[\"AV_VMAX\"].fillna(0)"
   ]
  },
  {
   "cell_type": "code",
   "execution_count": null,
   "id": "4d3cec61",
   "metadata": {
    "colab": {
     "base_uri": "https://localhost:8080/"
    },
    "id": "4d3cec61",
    "outputId": "8529fabc-c010-446d-ebc4-b7c29d2e8a78"
   },
   "outputs": [
    {
     "name": "stderr",
     "output_type": "stream",
     "text": [
      "/usr/local/lib/python3.7/dist-packages/ipykernel_launcher.py:1: SettingWithCopyWarning: \n",
      "A value is trying to be set on a copy of a slice from a DataFrame.\n",
      "Try using .loc[row_indexer,col_indexer] = value instead\n",
      "\n",
      "See the caveats in the documentation: https://pandas.pydata.org/pandas-docs/stable/user_guide/indexing.html#returning-a-view-versus-a-copy\n",
      "  \"\"\"Entry point for launching an IPython kernel.\n"
     ]
    }
   ],
   "source": [
    "newsheet2[\"PV_VMAX\"]=newsheet2[\"PV_VMAX\"].fillna(0)"
   ]
  },
  {
   "cell_type": "markdown",
   "id": "e8e22283",
   "metadata": {
    "id": "e8e22283"
   },
   "source": [
    "# **Read The Cleanning Data**."
   ]
  },
  {
   "cell_type": "code",
   "execution_count": null,
   "id": "4aa64c1f",
   "metadata": {
    "id": "4aa64c1f"
   },
   "outputs": [],
   "source": [
    "cleanesheet2=pd.read_excel(\"/content/drive/MyDrive/Colab Notebooks/All Data Sets/null.xlsx\")"
   ]
  },
  {
   "cell_type": "markdown",
   "id": "b414cc82",
   "metadata": {
    "id": "b414cc82"
   },
   "source": [
    "# **See The Null Values**."
   ]
  },
  {
   "cell_type": "code",
   "execution_count": null,
   "id": "a089547c",
   "metadata": {
    "colab": {
     "base_uri": "https://localhost:8080/"
    },
    "id": "a089547c",
    "outputId": "33d78662-8eb5-4581-9d41-78b2bcbb4a31"
   },
   "outputs": [
    {
     "data": {
      "text/plain": [
       "Unnamed: 0    0\n",
       "Date          0\n",
       "Month         0\n",
       "IP No         0\n",
       "Sex           0\n",
       "Age           0\n",
       "Place         0\n",
       "AO            0\n",
       "LA            0\n",
       "RV            0\n",
       "L VID_d       0\n",
       "L VID_s       0\n",
       "IVS_d         0\n",
       "IVS_S         0\n",
       "LVPW_d        0\n",
       "LVPW_s        0\n",
       "EDV           0\n",
       "ESV           0\n",
       "SV            0\n",
       "EF(%)         0\n",
       "FS(%)         0\n",
       "MV_E          0\n",
       "MV_A          0\n",
       "MR            0\n",
       "TV_E          0\n",
       "TV_A          0\n",
       "TR            0\n",
       "AV_VMAX       0\n",
       "PV_VMAX       0\n",
       "Diagnosis     0\n",
       "coding        0\n",
       "Day           0\n",
       "dtype: int64"
      ]
     },
     "execution_count": 184,
     "metadata": {},
     "output_type": "execute_result"
    }
   ],
   "source": [
    "cleanesheet2.isnull().sum()"
   ]
  },
  {
   "cell_type": "markdown",
   "id": "81619fa9",
   "metadata": {
    "id": "81619fa9"
   },
   "source": [
    "# **Month Wise Diagnosis Yes Or No In \"Male\"**."
   ]
  },
  {
   "cell_type": "code",
   "execution_count": null,
   "id": "d9bafbd8",
   "metadata": {
    "colab": {
     "base_uri": "https://localhost:8080/",
     "height": 420
    },
    "id": "d9bafbd8",
    "outputId": "7e5cf1e3-dede-4907-8fd8-e0f8e0c375ba"
   },
   "outputs": [
    {
     "data": {
      "image/png": "[encoded data removed]",
      "text/plain": [
       "<Figure size 2520x576 with 2 Axes>"
      ]
     },
     "metadata": {
      "needs_background": "light"
     },
     "output_type": "display_data"
    }
   ],
   "source": [
    "group1=cleanesheet2[cleanesheet2[\"Diagnosis\"]==\"Yes\"]\n",
    "group2=group1[group1[\"Sex\"]==\"M\"]\n",
    "group3=group2.groupby([\"Month\"],as_index=False)[\"IP No\"].count()\n",
    "\n",
    "group4=cleanesheet2[cleanesheet2[\"Diagnosis\"]==\"No\"]\n",
    "group5=group4[group4[\"Sex\"]==\"M\"]\n",
    "group6=group5.groupby([\"Month\"],as_index=False)[\"IP No\"].count()\n",
    "\n",
    "# plot on month wise\n",
    "figure,(ax1,ax2)=plt.subplots(ncols=2,figsize=(35,8))\n",
    "ax1.set_title(' Diagnosis In  male In Month Wise')\n",
    "ax=sns.barplot(x=\"Month\",y=\"IP No\",data=group3,ax=ax1)\n",
    "total = len(group3['Month'])\n",
    "for p in ax.patches:\n",
    "    percentage = f'{10 * p.get_height() / total:.1f}%\\n'\n",
    "    x = p.get_x() + p.get_width() / 2\n",
    "    y = p.get_height()\n",
    "    ax.annotate(percentage, (x, y), ha='center', va='center')\n",
    "ax2.set_title('No Diagnosis In male In Month Wise')\n",
    "ax=sns.barplot(x=\"Month\",y=\"IP No\",data=group6,ax=ax2)\n",
    "for p in ax.patches:\n",
    "    percentage = f'{1.5 * p.get_height() / total:.1f}%\\n'\n",
    "    x = p.get_x() + p.get_width() / 2\n",
    "    y = p.get_height()\n",
    "    ax.annotate(percentage, (x, y), ha='center', va='center')"
   ]
  },
  {
   "cell_type": "markdown",
   "id": "f02b29ae",
   "metadata": {
    "id": "f02b29ae"
   },
   "source": [
    "# **Month Wise Diagnosis Yes Or No In \"Female\"**."
   ]
  },
  {
   "cell_type": "code",
   "execution_count": null,
   "id": "03dae214",
   "metadata": {
    "colab": {
     "base_uri": "https://localhost:8080/",
     "height": 420
    },
    "id": "03dae214",
    "outputId": "78d0633f-a68d-450d-aaac-81965237ee7c"
   },
   "outputs": [
    {
     "data": {
      "image/png": "[encoded data removed]",
      "text/plain": [
       "<Figure size 2520x576 with 2 Axes>"
      ]
     },
     "metadata": {
      "needs_background": "light"
     },
     "output_type": "display_data"
    }
   ],
   "source": [
    "group7=cleanesheet2[cleanesheet2[\"Diagnosis\"]==\"Yes\"]\n",
    "group8=group7[group7[\"Sex\"]==\"F\"]\n",
    "group9=group8.groupby([\"Month\"],as_index=False)[\"IP No\"].count()\n",
    "\n",
    "group10=cleanesheet2[cleanesheet2[\"Diagnosis\"]==\"No\"]\n",
    "group11=group10[group10[\"Sex\"]==\"M\"]\n",
    "group12=group11.groupby([\"Month\"],as_index=False)[\"IP No\"].count()\n",
    "\n",
    "# plot on month wise\n",
    "figure,(ax1,ax2)=plt.subplots(ncols=2,figsize=(35,8))\n",
    "ax1.set_title(' Diagnosis In  Female In Month Wise')\n",
    "ax=sns.barplot(x=\"Month\",y=\"IP No\",data=group9,ax=ax1)\n",
    "total = len(group9['Month'])\n",
    "for p in ax.patches:\n",
    "    percentage = f'{10 * p.get_height() / total:.1f}%\\n'\n",
    "    x = p.get_x() + p.get_width() / 2\n",
    "    y = p.get_height()\n",
    "    ax.annotate(percentage, (x, y), ha='center', va='center')\n",
    "ax2.set_title('No Diagnosis In Female In Month Wise')\n",
    "ax=sns.barplot(x=\"Month\",y=\"IP No\",data=group12,ax=ax2)\n",
    "for p in ax.patches:\n",
    "    percentage = f'{1 * p.get_height() / total:.1f}%\\n'\n",
    "    x = p.get_x() + p.get_width() / 2\n",
    "    y = p.get_height()\n",
    "    ax.annotate(percentage, (x, y), ha='center', va='center')"
   ]
  },
  {
   "cell_type": "markdown",
   "id": "3600fe22",
   "metadata": {
    "id": "3600fe22"
   },
   "source": [
    "# **Place Wise Diagnosis Yes Or No In \"Male\"**."
   ]
  },
  {
   "cell_type": "code",
   "execution_count": null,
   "id": "fd202a91",
   "metadata": {
    "colab": {
     "base_uri": "https://localhost:8080/",
     "height": 906
    },
    "id": "fd202a91",
    "outputId": "e63f8e59-b232-4441-8152-d3f7d8f3fabe"
   },
   "outputs": [
    {
     "data": {
      "image/png": "[encoded data removed]",
      "text/plain": [
       "<Figure size 1080x360 with 1 Axes>"
      ]
     },
     "metadata": {
      "needs_background": "light"
     },
     "output_type": "display_data"
    },
    {
     "name": "stderr",
     "output_type": "stream",
     "text": [
      "/usr/local/lib/python3.7/dist-packages/ipykernel_launcher.py:14: MatplotlibDeprecationWarning: Adding an axes using the same arguments as a previous axes currently reuses the earlier instance.  In a future version, a new instance will always be created and returned.  Meanwhile, this warning can be suppressed, and the future behavior ensured, by passing a unique label to each axes instance.\n",
      "  \n"
     ]
    },
    {
     "data": {
      "image/png": "[encoded data removed]",
      "text/plain": [
       "<Figure size 1080x360 with 1 Axes>"
      ]
     },
     "metadata": {
      "needs_background": "light"
     },
     "output_type": "display_data"
    }
   ],
   "source": [
    "# plot on Place wise\n",
    "group13=cleanesheet2[cleanesheet2[\"Diagnosis\"]==\"Yes\"]\n",
    "group14=group13[group13[\"Sex\"]==\"M\"]\n",
    "group15=group4.groupby([\"Place\"],as_index=False)[\"IP No\"].count()\n",
    "group15.plot(x=\"Place\", y=[\"IP No\"], kind=\"bar\",color=\"r\",figsize=(15,5))\n",
    "plt.title(\"Diagnosis in male\")\n",
    "plt.show()\n",
    "\n",
    "group16=cleanesheet2[cleanesheet2[\"Diagnosis\"]==\"No\"]\n",
    "group17=group16[group16[\"Sex\"]==\"M\"]\n",
    "group18=group17.groupby([\"Place\"],as_index=False)[\"IP No\"].count()\n",
    "group18.plot(x=\"Place\", y=[\"IP No\"], kind=\"bar\",color=\"g\",figsize=(15,5))\n",
    "plt.title(\"No Diagnosis in male\")\n",
    "plt.subplot()\n",
    "plt.show()"
   ]
  },
  {
   "cell_type": "markdown",
   "id": "3a5d9fc9",
   "metadata": {
    "id": "3a5d9fc9"
   },
   "source": [
    "# **Place Wise Diagnosis Yes Or No In \"Female\"**."
   ]
  },
  {
   "cell_type": "code",
   "execution_count": null,
   "id": "4d4cc59f",
   "metadata": {
    "colab": {
     "base_uri": "https://localhost:8080/",
     "height": 820
    },
    "id": "4d4cc59f",
    "outputId": "f11f6fb0-200d-43bf-9891-e4e2751ee571"
   },
   "outputs": [
    {
     "data": {
      "image/png": "[encoded data removed]",
      "text/plain": [
       "<Figure size 1080x360 with 1 Axes>"
      ]
     },
     "metadata": {
      "needs_background": "light"
     },
     "output_type": "display_data"
    },
    {
     "data": {
      "image/png": "[encoded data removed]",
      "text/plain": [
       "<Figure size 1080x360 with 1 Axes>"
      ]
     },
     "metadata": {
      "needs_background": "light"
     },
     "output_type": "display_data"
    }
   ],
   "source": [
    "# plot on place wise\n",
    "group19=cleanesheet2[cleanesheet2[\"Diagnosis\"]==\"Yes\"]\n",
    "group20=group19[group19[\"Sex\"]==\"F\"]\n",
    "group21=group20.groupby([\"Place\"],as_index=False)[\"IP No\"].count()\n",
    "group21.plot(x=\"Place\", y=[\"IP No\"], kind=\"bar\",color=\"r\",figsize=(15,5))\n",
    "plt.title(\"Diagnosis in female\")\n",
    "plt.show()\n",
    "\n",
    "group22=cleanesheet2[cleanesheet2[\"Diagnosis\"]==\"No\"]\n",
    "group23=group22[group22[\"Sex\"]==\"F\"]\n",
    "group24=group23.groupby([\"Place\"],as_index=False)[\"IP No\"].count()\n",
    "group24.plot(x=\"Place\", y=[\"IP No\"], kind=\"bar\",color=\"g\",figsize=(15,5))\n",
    "plt.title(\"No Diagnosis in female\")\n",
    "plt.show()"
   ]
  },
  {
   "cell_type": "markdown",
   "id": "14d89eb7",
   "metadata": {
    "id": "14d89eb7"
   },
   "source": [
    "# **Data Is Being Group On  \"Age And Diagnosis\" Depends On \"IP No\"**."
   ]
  },
  {
   "cell_type": "code",
   "execution_count": null,
   "id": "d494015e",
   "metadata": {
    "colab": {
     "base_uri": "https://localhost:8080/",
     "height": 423
    },
    "id": "d494015e",
    "outputId": "08cfa59d-e866-47d0-95b0-ee66a766180b",
    "scrolled": false
   },
   "outputs": [
    {
     "data": {
      "text/html": [
       "\n",
       "  <div id=\"df-0ec3b5a6-5f74-4a34-9b23-ec92b95612b8\">\n",
       "    <div class=\"colab-df-container\">\n",
       "      <div>\n",
       "<style scoped>\n",
       "    .dataframe tbody tr th:only-of-type {\n",
       "        vertical-align: middle;\n",
       "    }\n",
       "\n",
       "    .dataframe tbody tr th {\n",
       "        vertical-align: top;\n",
       "    }\n",
       "\n",
       "    .dataframe thead th {\n",
       "        text-align: right;\n",
       "    }\n",
       "</style>\n",
       "<table border=\"1\" class=\"dataframe\">\n",
       "  <thead>\n",
       "    <tr style=\"text-align: right;\">\n",
       "      <th></th>\n",
       "      <th>Age</th>\n",
       "      <th>Diagnosis</th>\n",
       "      <th>IP No</th>\n",
       "    </tr>\n",
       "  </thead>\n",
       "  <tbody>\n",
       "    <tr>\n",
       "      <th>0</th>\n",
       "      <td>18</td>\n",
       "      <td>No</td>\n",
       "      <td>47</td>\n",
       "    </tr>\n",
       "    <tr>\n",
       "      <th>1</th>\n",
       "      <td>19</td>\n",
       "      <td>No</td>\n",
       "      <td>35</td>\n",
       "    </tr>\n",
       "    <tr>\n",
       "      <th>2</th>\n",
       "      <td>20</td>\n",
       "      <td>No</td>\n",
       "      <td>57</td>\n",
       "    </tr>\n",
       "    <tr>\n",
       "      <th>3</th>\n",
       "      <td>21</td>\n",
       "      <td>No</td>\n",
       "      <td>40</td>\n",
       "    </tr>\n",
       "    <tr>\n",
       "      <th>4</th>\n",
       "      <td>22</td>\n",
       "      <td>No</td>\n",
       "      <td>57</td>\n",
       "    </tr>\n",
       "    <tr>\n",
       "      <th>...</th>\n",
       "      <td>...</td>\n",
       "      <td>...</td>\n",
       "      <td>...</td>\n",
       "    </tr>\n",
       "    <tr>\n",
       "      <th>132</th>\n",
       "      <td>90</td>\n",
       "      <td>No</td>\n",
       "      <td>4</td>\n",
       "    </tr>\n",
       "    <tr>\n",
       "      <th>133</th>\n",
       "      <td>90</td>\n",
       "      <td>Yes</td>\n",
       "      <td>1</td>\n",
       "    </tr>\n",
       "    <tr>\n",
       "      <th>134</th>\n",
       "      <td>92</td>\n",
       "      <td>No</td>\n",
       "      <td>1</td>\n",
       "    </tr>\n",
       "    <tr>\n",
       "      <th>135</th>\n",
       "      <td>95</td>\n",
       "      <td>Yes</td>\n",
       "      <td>1</td>\n",
       "    </tr>\n",
       "    <tr>\n",
       "      <th>136</th>\n",
       "      <td>96</td>\n",
       "      <td>No</td>\n",
       "      <td>1</td>\n",
       "    </tr>\n",
       "  </tbody>\n",
       "</table>\n",
       "<p>137 rows × 3 columns</p>\n",
       "</div>\n",
       "      <button class=\"colab-df-convert\" onclick=\"convertToInteractive('df-0ec3b5a6-5f74-4a34-9b23-ec92b95612b8')\"\n",
       "              title=\"Convert this dataframe to an interactive table.\"\n",
       "              style=\"display:none;\">\n",
       "        \n",
       "  <svg xmlns=\"http://www.w3.org/2000/svg\" height=\"24px\"viewBox=\"0 0 24 24\"\n",
       "       width=\"24px\">\n",
       "    <path d=\"M0 0h24v24H0V0z\" fill=\"none\"/>\n",
       "    <path d=\"M18.56 5.44l.94 2.06.94-2.06 2.06-.94-2.06-.94-.94-2.06-.94 2.06-2.06.94zm-11 1L8.5 8.5l.94-2.06 2.06-.94-2.06-.94L8.5 2.5l-.94 2.06-2.06.94zm10 10l.94 2.06.94-2.06 2.06-.94-2.06-.94-.94-2.06-.94 2.06-2.06.94z\"/><path d=\"M17.41 7.96l-1.37-1.37c-.4-.4-.92-.59-1.43-.59-.52 0-1.04.2-1.43.59L10.3 9.45l-7.72 7.72c-.78.78-.78 2.05 0 2.83L4 21.41c.39.39.9.59 1.41.59.51 0 1.02-.2 1.41-.59l7.78-7.78 2.81-2.81c.8-.78.8-2.07 0-2.86zM5.41 20L4 18.59l7.72-7.72 1.47 1.35L5.41 20z\"/>\n",
       "  </svg>\n",
       "      </button>\n",
       "      \n",
       "  <style>\n",
       "    .colab-df-container {\n",
       "      display:flex;\n",
       "      flex-wrap:wrap;\n",
       "      gap: 12px;\n",
       "    }\n",
       "\n",
       "    .colab-df-convert {\n",
       "      background-color: #E8F0FE;\n",
       "      border: none;\n",
       "      border-radius: 50%;\n",
       "      cursor: pointer;\n",
       "      display: none;\n",
       "      fill: #1967D2;\n",
       "      height: 32px;\n",
       "      padding: 0 0 0 0;\n",
       "      width: 32px;\n",
       "    }\n",
       "\n",
       "    .colab-df-convert:hover {\n",
       "      background-color: #E2EBFA;\n",
       "      box-shadow: 0px 1px 2px rgba(60, 64, 67, 0.3), 0px 1px 3px 1px rgba(60, 64, 67, 0.15);\n",
       "      fill: #174EA6;\n",
       "    }\n",
       "\n",
       "    [theme=dark] .colab-df-convert {\n",
       "      background-color: #3B4455;\n",
       "      fill: #D2E3FC;\n",
       "    }\n",
       "\n",
       "    [theme=dark] .colab-df-convert:hover {\n",
       "      background-color: #434B5C;\n",
       "      box-shadow: 0px 1px 3px 1px rgba(0, 0, 0, 0.15);\n",
       "      filter: drop-shadow(0px 1px 2px rgba(0, 0, 0, 0.3));\n",
       "      fill: #FFFFFF;\n",
       "    }\n",
       "  </style>\n",
       "\n",
       "      <script>\n",
       "        const buttonEl =\n",
       "          document.querySelector('#df-0ec3b5a6-5f74-4a34-9b23-ec92b95612b8 button.colab-df-convert');\n",
       "        buttonEl.style.display =\n",
       "          google.colab.kernel.accessAllowed ? 'block' : 'none';\n",
       "\n",
       "        async function convertToInteractive(key) {\n",
       "          const element = document.querySelector('#df-0ec3b5a6-5f74-4a34-9b23-ec92b95612b8');\n",
       "          const dataTable =\n",
       "            await google.colab.kernel.invokeFunction('convertToInteractive',\n",
       "                                                     [key], {});\n",
       "          if (!dataTable) return;\n",
       "\n",
       "          const docLinkHtml = 'Like what you see? Visit the ' +\n",
       "            '<a target=\"_blank\" href=https://colab.research.google.com/notebooks/data_table.ipynb>data table notebook</a>'\n",
       "            + ' to learn more about interactive tables.';\n",
       "          element.innerHTML = '';\n",
       "          dataTable['output_type'] = 'display_data';\n",
       "          await google.colab.output.renderOutput(dataTable, element);\n",
       "          const docLink = document.createElement('div');\n",
       "          docLink.innerHTML = docLinkHtml;\n",
       "          element.appendChild(docLink);\n",
       "        }\n",
       "      </script>\n",
       "    </div>\n",
       "  </div>\n",
       "  "
      ],
      "text/plain": [
       "     Age Diagnosis  IP No\n",
       "0     18        No     47\n",
       "1     19        No     35\n",
       "2     20        No     57\n",
       "3     21        No     40\n",
       "4     22        No     57\n",
       "..   ...       ...    ...\n",
       "132   90        No      4\n",
       "133   90       Yes      1\n",
       "134   92        No      1\n",
       "135   95       Yes      1\n",
       "136   96        No      1\n",
       "\n",
       "[137 rows x 3 columns]"
      ]
     },
     "execution_count": 188,
     "metadata": {},
     "output_type": "execute_result"
    }
   ],
   "source": [
    "group25=cleanesheet2.groupby([\"Age\",\"Diagnosis\"],as_index=False)[\"IP No\"].count()\n",
    "group25\n"
   ]
  },
  {
   "cell_type": "markdown",
   "id": "85C02mBf4mKq",
   "metadata": {
    "id": "85C02mBf4mKq"
   },
   "source": [
    "# **Data Is Being Plot On Age Depends On \"IP No\"**."
   ]
  },
  {
   "cell_type": "code",
   "execution_count": null,
   "id": "923b3fcf",
   "metadata": {
    "colab": {
     "base_uri": "https://localhost:8080/",
     "height": 1000
    },
    "id": "923b3fcf",
    "outputId": "c7a5de10-eb7e-4143-a7b4-7eea1fa1e4a9"
   },
   "outputs": [
    {
     "data": {
      "image/png": "[encoded data removed]",
      "text/plain": [
       "<Figure size 1440x720 with 1 Axes>"
      ]
     },
     "metadata": {
      "needs_background": "light"
     },
     "output_type": "display_data"
    },
    {
     "data": {
      "image/png": "[encoded data removed]",
      "text/plain": [
       "<Figure size 1440x720 with 1 Axes>"
      ]
     },
     "metadata": {
      "needs_background": "light"
     },
     "output_type": "display_data"
    }
   ],
   "source": [
    "# plot on age wise\n",
    "group26=group25[group25[\"Diagnosis\"]==\"Yes\"]\n",
    "group26\n",
    "\n",
    "group26.plot(x=\"Age\", y=[\"IP No\"], kind=\"bar\",color=\"r\",figsize=(20,10))\n",
    "plt.title(\" Diagnosis In Male And Female\")\n",
    "plt.show()\n",
    "\n",
    "group27=group25[group25[\"Diagnosis\"]==\"No\"]\n",
    "group27\n",
    "\n",
    "group27.plot(x=\"Age\", y=[\"IP No\"], kind=\"bar\",color=\"g\",figsize=(20,10))\n",
    "plt.title(\"No Diagnosis In Male And Female\")\n",
    "plt.show()"
   ]
  },
  {
   "cell_type": "code",
   "execution_count": null,
   "id": "44567f3b",
   "metadata": {
    "colab": {
     "base_uri": "https://localhost:8080/"
    },
    "id": "44567f3b",
    "outputId": "ae89f1c1-672f-44c5-d114-c55d9cdc4f8b"
   },
   "outputs": [
    {
     "data": {
      "text/plain": [
       "Index(['Unnamed: 0', 'Date', 'Month', 'IP No', 'Sex', 'Age', 'Place', 'AO',\n",
       "       'LA', 'RV', 'L VID_d', 'L VID_s', 'IVS_d', 'IVS_S', 'LVPW_d', 'LVPW_s',\n",
       "       'EDV', 'ESV', 'SV', 'EF(%)', 'FS(%)', 'MV_E', 'MV_A', 'MR', 'TV_E',\n",
       "       'TV_A', 'TR', 'AV_VMAX', 'PV_VMAX', 'Diagnosis', 'coding', 'Day'],\n",
       "      dtype='object')"
      ]
     },
     "execution_count": 94,
     "metadata": {},
     "output_type": "execute_result"
    }
   ],
   "source": [
    "cleanesheet2.columns"
   ]
  },
  {
   "cell_type": "markdown",
   "id": "EHk567qHH8rd",
   "metadata": {
    "id": "EHk567qHH8rd"
   },
   "source": [
    "# **I keep the datetime and add a new column for the day and the month.**"
   ]
  },
  {
   "cell_type": "code",
   "execution_count": null,
   "id": "302773d8",
   "metadata": {
    "id": "302773d8"
   },
   "outputs": [],
   "source": [
    "cleanesheet2['Date'] = pd.to_datetime(cleanesheet2.Date)"
   ]
  },
  {
   "cell_type": "code",
   "execution_count": null,
   "id": "6ac194ad",
   "metadata": {
    "id": "6ac194ad"
   },
   "outputs": [],
   "source": [
    "\n",
    "cleanesheet2['Day']=cleanesheet2['Date'].map(lambda x:x.day)"
   ]
  },
  {
   "cell_type": "code",
   "execution_count": null,
   "id": "0e48df3b",
   "metadata": {
    "colab": {
     "base_uri": "https://localhost:8080/"
    },
    "id": "0e48df3b",
    "outputId": "8e828570-ab23-4c22-9c20-5a2632d31a31"
   },
   "outputs": [
    {
     "data": {
      "text/plain": [
       "31"
      ]
     },
     "execution_count": 97,
     "metadata": {},
     "output_type": "execute_result"
    }
   ],
   "source": [
    "cleanesheet2[\"Day\"].nunique()"
   ]
  },
  {
   "cell_type": "code",
   "execution_count": null,
   "id": "d51bf27d",
   "metadata": {
    "id": "d51bf27d"
   },
   "outputs": [],
   "source": [
    "cleanesheet2['Month']=cleanesheet2['Date'].map(lambda x:x.month)"
   ]
  },
  {
   "cell_type": "code",
   "execution_count": null,
   "id": "87a00eed",
   "metadata": {
    "id": "87a00eed"
   },
   "outputs": [],
   "source": [
    "cleanesheet2[\"Month\"]=cleanesheet2[\"Date\"].dt.month_name()"
   ]
  },
  {
   "cell_type": "markdown",
   "id": "b2bc71cb",
   "metadata": {
    "id": "b2bc71cb"
   },
   "source": [
    "#  **Data Is Being Group On  \"Day,Month And Diagnosis\" Depends On \"IP No\"**."
   ]
  },
  {
   "cell_type": "code",
   "execution_count": null,
   "id": "332c1848",
   "metadata": {
    "colab": {
     "base_uri": "https://localhost:8080/",
     "height": 1553
    },
    "id": "332c1848",
    "outputId": "f97def88-0b24-44a5-8d24-f87c85c348e9"
   },
   "outputs": [
    {
     "data": {
      "text/html": [
       "\n",
       "  <div id=\"df-af425628-2046-44c3-ba06-bf99aa9b54bc\">\n",
       "    <div class=\"colab-df-container\">\n",
       "      <div>\n",
       "<style scoped>\n",
       "    .dataframe tbody tr th:only-of-type {\n",
       "        vertical-align: middle;\n",
       "    }\n",
       "\n",
       "    .dataframe tbody tr th {\n",
       "        vertical-align: top;\n",
       "    }\n",
       "\n",
       "    .dataframe thead th {\n",
       "        text-align: right;\n",
       "    }\n",
       "</style>\n",
       "<table border=\"1\" class=\"dataframe\">\n",
       "  <thead>\n",
       "    <tr style=\"text-align: right;\">\n",
       "      <th></th>\n",
       "      <th>Sex</th>\n",
       "      <th>Month</th>\n",
       "      <th>Diagnosis</th>\n",
       "      <th>IP No</th>\n",
       "    </tr>\n",
       "  </thead>\n",
       "  <tbody>\n",
       "    <tr>\n",
       "      <th>0</th>\n",
       "      <td>F</td>\n",
       "      <td>April</td>\n",
       "      <td>No</td>\n",
       "      <td>223</td>\n",
       "    </tr>\n",
       "    <tr>\n",
       "      <th>1</th>\n",
       "      <td>F</td>\n",
       "      <td>April</td>\n",
       "      <td>Yes</td>\n",
       "      <td>12</td>\n",
       "    </tr>\n",
       "    <tr>\n",
       "      <th>2</th>\n",
       "      <td>F</td>\n",
       "      <td>August</td>\n",
       "      <td>No</td>\n",
       "      <td>212</td>\n",
       "    </tr>\n",
       "    <tr>\n",
       "      <th>3</th>\n",
       "      <td>F</td>\n",
       "      <td>August</td>\n",
       "      <td>Yes</td>\n",
       "      <td>19</td>\n",
       "    </tr>\n",
       "    <tr>\n",
       "      <th>4</th>\n",
       "      <td>F</td>\n",
       "      <td>December</td>\n",
       "      <td>No</td>\n",
       "      <td>219</td>\n",
       "    </tr>\n",
       "    <tr>\n",
       "      <th>5</th>\n",
       "      <td>F</td>\n",
       "      <td>December</td>\n",
       "      <td>Yes</td>\n",
       "      <td>20</td>\n",
       "    </tr>\n",
       "    <tr>\n",
       "      <th>6</th>\n",
       "      <td>F</td>\n",
       "      <td>February</td>\n",
       "      <td>No</td>\n",
       "      <td>257</td>\n",
       "    </tr>\n",
       "    <tr>\n",
       "      <th>7</th>\n",
       "      <td>F</td>\n",
       "      <td>February</td>\n",
       "      <td>Yes</td>\n",
       "      <td>17</td>\n",
       "    </tr>\n",
       "    <tr>\n",
       "      <th>8</th>\n",
       "      <td>F</td>\n",
       "      <td>January</td>\n",
       "      <td>No</td>\n",
       "      <td>262</td>\n",
       "    </tr>\n",
       "    <tr>\n",
       "      <th>9</th>\n",
       "      <td>F</td>\n",
       "      <td>January</td>\n",
       "      <td>Yes</td>\n",
       "      <td>18</td>\n",
       "    </tr>\n",
       "    <tr>\n",
       "      <th>10</th>\n",
       "      <td>F</td>\n",
       "      <td>July</td>\n",
       "      <td>No</td>\n",
       "      <td>217</td>\n",
       "    </tr>\n",
       "    <tr>\n",
       "      <th>11</th>\n",
       "      <td>F</td>\n",
       "      <td>July</td>\n",
       "      <td>Yes</td>\n",
       "      <td>16</td>\n",
       "    </tr>\n",
       "    <tr>\n",
       "      <th>12</th>\n",
       "      <td>F</td>\n",
       "      <td>June</td>\n",
       "      <td>No</td>\n",
       "      <td>202</td>\n",
       "    </tr>\n",
       "    <tr>\n",
       "      <th>13</th>\n",
       "      <td>F</td>\n",
       "      <td>June</td>\n",
       "      <td>Yes</td>\n",
       "      <td>10</td>\n",
       "    </tr>\n",
       "    <tr>\n",
       "      <th>14</th>\n",
       "      <td>F</td>\n",
       "      <td>March</td>\n",
       "      <td>No</td>\n",
       "      <td>200</td>\n",
       "    </tr>\n",
       "    <tr>\n",
       "      <th>15</th>\n",
       "      <td>F</td>\n",
       "      <td>March</td>\n",
       "      <td>Yes</td>\n",
       "      <td>20</td>\n",
       "    </tr>\n",
       "    <tr>\n",
       "      <th>16</th>\n",
       "      <td>F</td>\n",
       "      <td>May</td>\n",
       "      <td>No</td>\n",
       "      <td>234</td>\n",
       "    </tr>\n",
       "    <tr>\n",
       "      <th>17</th>\n",
       "      <td>F</td>\n",
       "      <td>May</td>\n",
       "      <td>Yes</td>\n",
       "      <td>20</td>\n",
       "    </tr>\n",
       "    <tr>\n",
       "      <th>18</th>\n",
       "      <td>F</td>\n",
       "      <td>November</td>\n",
       "      <td>No</td>\n",
       "      <td>176</td>\n",
       "    </tr>\n",
       "    <tr>\n",
       "      <th>19</th>\n",
       "      <td>F</td>\n",
       "      <td>November</td>\n",
       "      <td>Yes</td>\n",
       "      <td>16</td>\n",
       "    </tr>\n",
       "    <tr>\n",
       "      <th>20</th>\n",
       "      <td>F</td>\n",
       "      <td>October</td>\n",
       "      <td>No</td>\n",
       "      <td>205</td>\n",
       "    </tr>\n",
       "    <tr>\n",
       "      <th>21</th>\n",
       "      <td>F</td>\n",
       "      <td>October</td>\n",
       "      <td>Yes</td>\n",
       "      <td>17</td>\n",
       "    </tr>\n",
       "    <tr>\n",
       "      <th>22</th>\n",
       "      <td>F</td>\n",
       "      <td>September</td>\n",
       "      <td>No</td>\n",
       "      <td>198</td>\n",
       "    </tr>\n",
       "    <tr>\n",
       "      <th>23</th>\n",
       "      <td>F</td>\n",
       "      <td>September</td>\n",
       "      <td>Yes</td>\n",
       "      <td>12</td>\n",
       "    </tr>\n",
       "    <tr>\n",
       "      <th>24</th>\n",
       "      <td>M</td>\n",
       "      <td>April</td>\n",
       "      <td>No</td>\n",
       "      <td>277</td>\n",
       "    </tr>\n",
       "    <tr>\n",
       "      <th>25</th>\n",
       "      <td>M</td>\n",
       "      <td>April</td>\n",
       "      <td>Yes</td>\n",
       "      <td>61</td>\n",
       "    </tr>\n",
       "    <tr>\n",
       "      <th>26</th>\n",
       "      <td>M</td>\n",
       "      <td>August</td>\n",
       "      <td>No</td>\n",
       "      <td>272</td>\n",
       "    </tr>\n",
       "    <tr>\n",
       "      <th>27</th>\n",
       "      <td>M</td>\n",
       "      <td>August</td>\n",
       "      <td>Yes</td>\n",
       "      <td>70</td>\n",
       "    </tr>\n",
       "    <tr>\n",
       "      <th>28</th>\n",
       "      <td>M</td>\n",
       "      <td>December</td>\n",
       "      <td>No</td>\n",
       "      <td>264</td>\n",
       "    </tr>\n",
       "    <tr>\n",
       "      <th>29</th>\n",
       "      <td>M</td>\n",
       "      <td>December</td>\n",
       "      <td>Yes</td>\n",
       "      <td>66</td>\n",
       "    </tr>\n",
       "    <tr>\n",
       "      <th>30</th>\n",
       "      <td>M</td>\n",
       "      <td>February</td>\n",
       "      <td>No</td>\n",
       "      <td>309</td>\n",
       "    </tr>\n",
       "    <tr>\n",
       "      <th>31</th>\n",
       "      <td>M</td>\n",
       "      <td>February</td>\n",
       "      <td>Yes</td>\n",
       "      <td>78</td>\n",
       "    </tr>\n",
       "    <tr>\n",
       "      <th>32</th>\n",
       "      <td>M</td>\n",
       "      <td>January</td>\n",
       "      <td>No</td>\n",
       "      <td>357</td>\n",
       "    </tr>\n",
       "    <tr>\n",
       "      <th>33</th>\n",
       "      <td>M</td>\n",
       "      <td>January</td>\n",
       "      <td>Yes</td>\n",
       "      <td>77</td>\n",
       "    </tr>\n",
       "    <tr>\n",
       "      <th>34</th>\n",
       "      <td>M</td>\n",
       "      <td>July</td>\n",
       "      <td>No</td>\n",
       "      <td>275</td>\n",
       "    </tr>\n",
       "    <tr>\n",
       "      <th>35</th>\n",
       "      <td>M</td>\n",
       "      <td>July</td>\n",
       "      <td>Yes</td>\n",
       "      <td>69</td>\n",
       "    </tr>\n",
       "    <tr>\n",
       "      <th>36</th>\n",
       "      <td>M</td>\n",
       "      <td>June</td>\n",
       "      <td>No</td>\n",
       "      <td>256</td>\n",
       "    </tr>\n",
       "    <tr>\n",
       "      <th>37</th>\n",
       "      <td>M</td>\n",
       "      <td>June</td>\n",
       "      <td>Yes</td>\n",
       "      <td>60</td>\n",
       "    </tr>\n",
       "    <tr>\n",
       "      <th>38</th>\n",
       "      <td>M</td>\n",
       "      <td>March</td>\n",
       "      <td>No</td>\n",
       "      <td>292</td>\n",
       "    </tr>\n",
       "    <tr>\n",
       "      <th>39</th>\n",
       "      <td>M</td>\n",
       "      <td>March</td>\n",
       "      <td>Yes</td>\n",
       "      <td>61</td>\n",
       "    </tr>\n",
       "    <tr>\n",
       "      <th>40</th>\n",
       "      <td>M</td>\n",
       "      <td>May</td>\n",
       "      <td>No</td>\n",
       "      <td>295</td>\n",
       "    </tr>\n",
       "    <tr>\n",
       "      <th>41</th>\n",
       "      <td>M</td>\n",
       "      <td>May</td>\n",
       "      <td>Yes</td>\n",
       "      <td>62</td>\n",
       "    </tr>\n",
       "    <tr>\n",
       "      <th>42</th>\n",
       "      <td>M</td>\n",
       "      <td>November</td>\n",
       "      <td>No</td>\n",
       "      <td>243</td>\n",
       "    </tr>\n",
       "    <tr>\n",
       "      <th>43</th>\n",
       "      <td>M</td>\n",
       "      <td>November</td>\n",
       "      <td>Yes</td>\n",
       "      <td>54</td>\n",
       "    </tr>\n",
       "    <tr>\n",
       "      <th>44</th>\n",
       "      <td>M</td>\n",
       "      <td>October</td>\n",
       "      <td>No</td>\n",
       "      <td>256</td>\n",
       "    </tr>\n",
       "    <tr>\n",
       "      <th>45</th>\n",
       "      <td>M</td>\n",
       "      <td>October</td>\n",
       "      <td>Yes</td>\n",
       "      <td>74</td>\n",
       "    </tr>\n",
       "    <tr>\n",
       "      <th>46</th>\n",
       "      <td>M</td>\n",
       "      <td>September</td>\n",
       "      <td>No</td>\n",
       "      <td>270</td>\n",
       "    </tr>\n",
       "    <tr>\n",
       "      <th>47</th>\n",
       "      <td>M</td>\n",
       "      <td>September</td>\n",
       "      <td>Yes</td>\n",
       "      <td>60</td>\n",
       "    </tr>\n",
       "  </tbody>\n",
       "</table>\n",
       "</div>\n",
       "      <button class=\"colab-df-convert\" onclick=\"convertToInteractive('df-af425628-2046-44c3-ba06-bf99aa9b54bc')\"\n",
       "              title=\"Convert this dataframe to an interactive table.\"\n",
       "              style=\"display:none;\">\n",
       "        \n",
       "  <svg xmlns=\"http://www.w3.org/2000/svg\" height=\"24px\"viewBox=\"0 0 24 24\"\n",
       "       width=\"24px\">\n",
       "    <path d=\"M0 0h24v24H0V0z\" fill=\"none\"/>\n",
       "    <path d=\"M18.56 5.44l.94 2.06.94-2.06 2.06-.94-2.06-.94-.94-2.06-.94 2.06-2.06.94zm-11 1L8.5 8.5l.94-2.06 2.06-.94-2.06-.94L8.5 2.5l-.94 2.06-2.06.94zm10 10l.94 2.06.94-2.06 2.06-.94-2.06-.94-.94-2.06-.94 2.06-2.06.94z\"/><path d=\"M17.41 7.96l-1.37-1.37c-.4-.4-.92-.59-1.43-.59-.52 0-1.04.2-1.43.59L10.3 9.45l-7.72 7.72c-.78.78-.78 2.05 0 2.83L4 21.41c.39.39.9.59 1.41.59.51 0 1.02-.2 1.41-.59l7.78-7.78 2.81-2.81c.8-.78.8-2.07 0-2.86zM5.41 20L4 18.59l7.72-7.72 1.47 1.35L5.41 20z\"/>\n",
       "  </svg>\n",
       "      </button>\n",
       "      \n",
       "  <style>\n",
       "    .colab-df-container {\n",
       "      display:flex;\n",
       "      flex-wrap:wrap;\n",
       "      gap: 12px;\n",
       "    }\n",
       "\n",
       "    .colab-df-convert {\n",
       "      background-color: #E8F0FE;\n",
       "      border: none;\n",
       "      border-radius: 50%;\n",
       "      cursor: pointer;\n",
       "      display: none;\n",
       "      fill: #1967D2;\n",
       "      height: 32px;\n",
       "      padding: 0 0 0 0;\n",
       "      width: 32px;\n",
       "    }\n",
       "\n",
       "    .colab-df-convert:hover {\n",
       "      background-color: #E2EBFA;\n",
       "      box-shadow: 0px 1px 2px rgba(60, 64, 67, 0.3), 0px 1px 3px 1px rgba(60, 64, 67, 0.15);\n",
       "      fill: #174EA6;\n",
       "    }\n",
       "\n",
       "    [theme=dark] .colab-df-convert {\n",
       "      background-color: #3B4455;\n",
       "      fill: #D2E3FC;\n",
       "    }\n",
       "\n",
       "    [theme=dark] .colab-df-convert:hover {\n",
       "      background-color: #434B5C;\n",
       "      box-shadow: 0px 1px 3px 1px rgba(0, 0, 0, 0.15);\n",
       "      filter: drop-shadow(0px 1px 2px rgba(0, 0, 0, 0.3));\n",
       "      fill: #FFFFFF;\n",
       "    }\n",
       "  </style>\n",
       "\n",
       "      <script>\n",
       "        const buttonEl =\n",
       "          document.querySelector('#df-af425628-2046-44c3-ba06-bf99aa9b54bc button.colab-df-convert');\n",
       "        buttonEl.style.display =\n",
       "          google.colab.kernel.accessAllowed ? 'block' : 'none';\n",
       "\n",
       "        async function convertToInteractive(key) {\n",
       "          const element = document.querySelector('#df-af425628-2046-44c3-ba06-bf99aa9b54bc');\n",
       "          const dataTable =\n",
       "            await google.colab.kernel.invokeFunction('convertToInteractive',\n",
       "                                                     [key], {});\n",
       "          if (!dataTable) return;\n",
       "\n",
       "          const docLinkHtml = 'Like what you see? Visit the ' +\n",
       "            '<a target=\"_blank\" href=https://colab.research.google.com/notebooks/data_table.ipynb>data table notebook</a>'\n",
       "            + ' to learn more about interactive tables.';\n",
       "          element.innerHTML = '';\n",
       "          dataTable['output_type'] = 'display_data';\n",
       "          await google.colab.output.renderOutput(dataTable, element);\n",
       "          const docLink = document.createElement('div');\n",
       "          docLink.innerHTML = docLinkHtml;\n",
       "          element.appendChild(docLink);\n",
       "        }\n",
       "      </script>\n",
       "    </div>\n",
       "  </div>\n",
       "  "
      ],
      "text/plain": [
       "   Sex      Month Diagnosis  IP No\n",
       "0    F      April        No    223\n",
       "1    F      April       Yes     12\n",
       "2    F     August        No    212\n",
       "3    F     August       Yes     19\n",
       "4    F   December        No    219\n",
       "5    F   December       Yes     20\n",
       "6    F   February        No    257\n",
       "7    F   February       Yes     17\n",
       "8    F    January        No    262\n",
       "9    F    January       Yes     18\n",
       "10   F       July        No    217\n",
       "11   F       July       Yes     16\n",
       "12   F       June        No    202\n",
       "13   F       June       Yes     10\n",
       "14   F      March        No    200\n",
       "15   F      March       Yes     20\n",
       "16   F        May        No    234\n",
       "17   F        May       Yes     20\n",
       "18   F   November        No    176\n",
       "19   F   November       Yes     16\n",
       "20   F    October        No    205\n",
       "21   F    October       Yes     17\n",
       "22   F  September        No    198\n",
       "23   F  September       Yes     12\n",
       "24   M      April        No    277\n",
       "25   M      April       Yes     61\n",
       "26   M     August        No    272\n",
       "27   M     August       Yes     70\n",
       "28   M   December        No    264\n",
       "29   M   December       Yes     66\n",
       "30   M   February        No    309\n",
       "31   M   February       Yes     78\n",
       "32   M    January        No    357\n",
       "33   M    January       Yes     77\n",
       "34   M       July        No    275\n",
       "35   M       July       Yes     69\n",
       "36   M       June        No    256\n",
       "37   M       June       Yes     60\n",
       "38   M      March        No    292\n",
       "39   M      March       Yes     61\n",
       "40   M        May        No    295\n",
       "41   M        May       Yes     62\n",
       "42   M   November        No    243\n",
       "43   M   November       Yes     54\n",
       "44   M    October        No    256\n",
       "45   M    October       Yes     74\n",
       "46   M  September        No    270\n",
       "47   M  September       Yes     60"
      ]
     },
     "execution_count": 100,
     "metadata": {},
     "output_type": "execute_result"
    }
   ],
   "source": [
    "group28=cleanesheet2.groupby([\"Sex\",\"Month\",\"Diagnosis\"],as_index=False)[\"IP No\"].count()\n",
    "group28\n"
   ]
  },
  {
   "cell_type": "markdown",
   "id": "IkXcSs5SQROd",
   "metadata": {
    "id": "IkXcSs5SQROd"
   },
   "source": [
    "# **Diagnosis In Month Wise Filtered**."
   ]
  },
  {
   "cell_type": "code",
   "execution_count": null,
   "id": "XDSnFt29ObBq",
   "metadata": {
    "colab": {
     "base_uri": "https://localhost:8080/",
     "height": 1000
    },
    "id": "XDSnFt29ObBq",
    "outputId": "81c6119f-fac6-49f9-e832-622104a4bf4a"
   },
   "outputs": [
    {
     "data": {
      "image/png": "[encoded data removed]",
      "text/plain": [
       "<Figure size 1440x720 with 1 Axes>"
      ]
     },
     "metadata": {
      "needs_background": "light"
     },
     "output_type": "display_data"
    },
    {
     "data": {
      "image/png": "[encoded data removed]",
      "text/plain": [
       "<Figure size 1440x720 with 1 Axes>"
      ]
     },
     "metadata": {
      "needs_background": "light"
     },
     "output_type": "display_data"
    }
   ],
   "source": [
    "group29=group28[group28[\"Diagnosis\"]==\"Yes\"]\n",
    "group30=group29[group29[\"Sex\"]==\"M\"]\n",
    "group30\n",
    "\n",
    "group30.plot(x=\"Month\", y=[\"IP No\"], kind=\"bar\",color=\"r\",figsize=(20,10))\n",
    "plt.title(\" Diagnosis In Male \")\n",
    "plt.show()\n",
    "\n",
    "group31=group29[group29[\"Sex\"]==\"F\"]\n",
    "group31.plot(x=\"Month\", y=[\"IP No\"], kind=\"bar\",color=\"g\",figsize=(20,10))\n",
    "plt.title(\"Diagnosis In Female\")\n",
    "plt.show()"
   ]
  },
  {
   "cell_type": "markdown",
   "id": "vLOYkdD_Rv1Q",
   "metadata": {
    "id": "vLOYkdD_Rv1Q"
   },
   "source": [
    "# **No Diagnosis In Month Wise Filtered**."
   ]
  },
  {
   "cell_type": "code",
   "execution_count": null,
   "id": "LhrUk4nDRxVT",
   "metadata": {
    "colab": {
     "base_uri": "https://localhost:8080/",
     "height": 1000
    },
    "id": "LhrUk4nDRxVT",
    "outputId": "40d35f14-fc25-4725-9adf-de3d445dce58"
   },
   "outputs": [
    {
     "data": {
      "image/png": "[encoded data removed]",
      "text/plain": [
       "<Figure size 1440x720 with 1 Axes>"
      ]
     },
     "metadata": {
      "needs_background": "light"
     },
     "output_type": "display_data"
    },
    {
     "data": {
      "image/png": "[encoded data removed]",
      "text/plain": [
       "<Figure size 1440x720 with 1 Axes>"
      ]
     },
     "metadata": {
      "needs_background": "light"
     },
     "output_type": "display_data"
    }
   ],
   "source": [
    "group32=group28[group28[\"Diagnosis\"]==\"No\"]\n",
    "group33=group32[group32[\"Sex\"]==\"M\"]\n",
    "\n",
    "\n",
    "group33.plot(x=\"Month\", y=[\"IP No\"], kind=\"bar\",color=\"r\",figsize=(20,10))\n",
    "plt.title(\"No Diagnosis In Male \")\n",
    "plt.show()\n",
    "\n",
    "group34=group32[group32[\"Sex\"]==\"F\"]\n",
    "group34.plot(x=\"Month\", y=[\"IP No\"], kind=\"bar\",color=\"g\",figsize=(20,10))\n",
    "plt.title(\"No Diagnosis In Female\")\n",
    "plt.show()"
   ]
  },
  {
   "cell_type": "code",
   "execution_count": null,
   "id": "6b502e8a",
   "metadata": {
    "colab": {
     "base_uri": "https://localhost:8080/",
     "height": 423
    },
    "id": "6b502e8a",
    "outputId": "eb1f185b-4c1a-46e9-8e60-64805b68e7ed"
   },
   "outputs": [
    {
     "data": {
      "text/html": [
       "\n",
       "  <div id=\"df-6c53ffd6-d4e5-4857-8d78-b3b6d79c86d2\">\n",
       "    <div class=\"colab-df-container\">\n",
       "      <div>\n",
       "<style scoped>\n",
       "    .dataframe tbody tr th:only-of-type {\n",
       "        vertical-align: middle;\n",
       "    }\n",
       "\n",
       "    .dataframe tbody tr th {\n",
       "        vertical-align: top;\n",
       "    }\n",
       "\n",
       "    .dataframe thead th {\n",
       "        text-align: right;\n",
       "    }\n",
       "</style>\n",
       "<table border=\"1\" class=\"dataframe\">\n",
       "  <thead>\n",
       "    <tr style=\"text-align: right;\">\n",
       "      <th></th>\n",
       "      <th>Unnamed: 0</th>\n",
       "      <th>Date</th>\n",
       "      <th>Month</th>\n",
       "      <th>IP No</th>\n",
       "      <th>Sex</th>\n",
       "      <th>Age</th>\n",
       "      <th>Place</th>\n",
       "      <th>AO</th>\n",
       "      <th>LA</th>\n",
       "      <th>RV</th>\n",
       "      <th>...</th>\n",
       "      <th>MV_A</th>\n",
       "      <th>MR</th>\n",
       "      <th>TV_E</th>\n",
       "      <th>TV_A</th>\n",
       "      <th>TR</th>\n",
       "      <th>AV_VMAX</th>\n",
       "      <th>PV_VMAX</th>\n",
       "      <th>Diagnosis</th>\n",
       "      <th>coding</th>\n",
       "      <th>Day</th>\n",
       "    </tr>\n",
       "  </thead>\n",
       "  <tbody>\n",
       "    <tr>\n",
       "      <th>0</th>\n",
       "      <td>0</td>\n",
       "      <td>2016-08-01</td>\n",
       "      <td>August</td>\n",
       "      <td>1473275</td>\n",
       "      <td>F</td>\n",
       "      <td>18</td>\n",
       "      <td>MANDYA</td>\n",
       "      <td>21</td>\n",
       "      <td>23</td>\n",
       "      <td>22</td>\n",
       "      <td>...</td>\n",
       "      <td>56</td>\n",
       "      <td>0.00</td>\n",
       "      <td>60</td>\n",
       "      <td>33</td>\n",
       "      <td>0.00</td>\n",
       "      <td>176</td>\n",
       "      <td>149</td>\n",
       "      <td>No</td>\n",
       "      <td>0</td>\n",
       "      <td>1</td>\n",
       "    </tr>\n",
       "    <tr>\n",
       "      <th>1</th>\n",
       "      <td>1</td>\n",
       "      <td>2016-08-01</td>\n",
       "      <td>August</td>\n",
       "      <td>1474255</td>\n",
       "      <td>F</td>\n",
       "      <td>18</td>\n",
       "      <td>HASSAN</td>\n",
       "      <td>0</td>\n",
       "      <td>22</td>\n",
       "      <td>14</td>\n",
       "      <td>...</td>\n",
       "      <td>46</td>\n",
       "      <td>0.00</td>\n",
       "      <td>65</td>\n",
       "      <td>94</td>\n",
       "      <td>0.00</td>\n",
       "      <td>163</td>\n",
       "      <td>90</td>\n",
       "      <td>No</td>\n",
       "      <td>0</td>\n",
       "      <td>1</td>\n",
       "    </tr>\n",
       "    <tr>\n",
       "      <th>2</th>\n",
       "      <td>2</td>\n",
       "      <td>2016-01-31</td>\n",
       "      <td>January</td>\n",
       "      <td>1441880</td>\n",
       "      <td>M</td>\n",
       "      <td>18</td>\n",
       "      <td>MYSURU</td>\n",
       "      <td>23</td>\n",
       "      <td>34</td>\n",
       "      <td>20</td>\n",
       "      <td>...</td>\n",
       "      <td>103</td>\n",
       "      <td>0.00</td>\n",
       "      <td>41</td>\n",
       "      <td>50</td>\n",
       "      <td>0.00</td>\n",
       "      <td>112</td>\n",
       "      <td>115</td>\n",
       "      <td>No</td>\n",
       "      <td>0</td>\n",
       "      <td>31</td>\n",
       "    </tr>\n",
       "    <tr>\n",
       "      <th>3</th>\n",
       "      <td>3</td>\n",
       "      <td>2016-02-22</td>\n",
       "      <td>February</td>\n",
       "      <td>-1</td>\n",
       "      <td>M</td>\n",
       "      <td>18</td>\n",
       "      <td>AGARTALA</td>\n",
       "      <td>26</td>\n",
       "      <td>27</td>\n",
       "      <td>16</td>\n",
       "      <td>...</td>\n",
       "      <td>62</td>\n",
       "      <td>0.00</td>\n",
       "      <td>83</td>\n",
       "      <td>51</td>\n",
       "      <td>0.00</td>\n",
       "      <td>153</td>\n",
       "      <td>158</td>\n",
       "      <td>No</td>\n",
       "      <td>0</td>\n",
       "      <td>22</td>\n",
       "    </tr>\n",
       "    <tr>\n",
       "      <th>4</th>\n",
       "      <td>4</td>\n",
       "      <td>2016-06-02</td>\n",
       "      <td>June</td>\n",
       "      <td>1486582</td>\n",
       "      <td>M</td>\n",
       "      <td>18</td>\n",
       "      <td>MYSURU</td>\n",
       "      <td>26</td>\n",
       "      <td>21</td>\n",
       "      <td>18</td>\n",
       "      <td>...</td>\n",
       "      <td>47</td>\n",
       "      <td>0.00</td>\n",
       "      <td>68</td>\n",
       "      <td>58</td>\n",
       "      <td>0.00</td>\n",
       "      <td>155</td>\n",
       "      <td>144</td>\n",
       "      <td>No</td>\n",
       "      <td>0</td>\n",
       "      <td>2</td>\n",
       "    </tr>\n",
       "    <tr>\n",
       "      <th>...</th>\n",
       "      <td>...</td>\n",
       "      <td>...</td>\n",
       "      <td>...</td>\n",
       "      <td>...</td>\n",
       "      <td>...</td>\n",
       "      <td>...</td>\n",
       "      <td>...</td>\n",
       "      <td>...</td>\n",
       "      <td>...</td>\n",
       "      <td>...</td>\n",
       "      <td>...</td>\n",
       "      <td>...</td>\n",
       "      <td>...</td>\n",
       "      <td>...</td>\n",
       "      <td>...</td>\n",
       "      <td>...</td>\n",
       "      <td>...</td>\n",
       "      <td>...</td>\n",
       "      <td>...</td>\n",
       "      <td>...</td>\n",
       "      <td>...</td>\n",
       "    </tr>\n",
       "    <tr>\n",
       "      <th>6955</th>\n",
       "      <td>7299</td>\n",
       "      <td>2016-08-19</td>\n",
       "      <td>August</td>\n",
       "      <td>1578307</td>\n",
       "      <td>M</td>\n",
       "      <td>90</td>\n",
       "      <td>MYSURU</td>\n",
       "      <td>23</td>\n",
       "      <td>24</td>\n",
       "      <td>16</td>\n",
       "      <td>...</td>\n",
       "      <td>72</td>\n",
       "      <td>0.00</td>\n",
       "      <td>48</td>\n",
       "      <td>41</td>\n",
       "      <td>0.25</td>\n",
       "      <td>78</td>\n",
       "      <td>92</td>\n",
       "      <td>No</td>\n",
       "      <td>0</td>\n",
       "      <td>19</td>\n",
       "    </tr>\n",
       "    <tr>\n",
       "      <th>6956</th>\n",
       "      <td>7300</td>\n",
       "      <td>2016-12-17</td>\n",
       "      <td>December</td>\n",
       "      <td>1636812</td>\n",
       "      <td>M</td>\n",
       "      <td>90</td>\n",
       "      <td>MYSURU</td>\n",
       "      <td>32</td>\n",
       "      <td>28</td>\n",
       "      <td>19</td>\n",
       "      <td>...</td>\n",
       "      <td>71</td>\n",
       "      <td>0.25</td>\n",
       "      <td>37</td>\n",
       "      <td>48</td>\n",
       "      <td>0.50</td>\n",
       "      <td>130</td>\n",
       "      <td>85</td>\n",
       "      <td>No</td>\n",
       "      <td>0</td>\n",
       "      <td>17</td>\n",
       "    </tr>\n",
       "    <tr>\n",
       "      <th>6957</th>\n",
       "      <td>7301</td>\n",
       "      <td>2016-01-29</td>\n",
       "      <td>January</td>\n",
       "      <td>1483291</td>\n",
       "      <td>M</td>\n",
       "      <td>92</td>\n",
       "      <td>MYSURU</td>\n",
       "      <td>29</td>\n",
       "      <td>38</td>\n",
       "      <td>22</td>\n",
       "      <td>...</td>\n",
       "      <td>84</td>\n",
       "      <td>0.25</td>\n",
       "      <td>38</td>\n",
       "      <td>50</td>\n",
       "      <td>0.00</td>\n",
       "      <td>115</td>\n",
       "      <td>71</td>\n",
       "      <td>No</td>\n",
       "      <td>0</td>\n",
       "      <td>29</td>\n",
       "    </tr>\n",
       "    <tr>\n",
       "      <th>6958</th>\n",
       "      <td>7302</td>\n",
       "      <td>2016-12-04</td>\n",
       "      <td>December</td>\n",
       "      <td>1516291</td>\n",
       "      <td>F</td>\n",
       "      <td>95</td>\n",
       "      <td>HASSAN</td>\n",
       "      <td>22</td>\n",
       "      <td>37</td>\n",
       "      <td>19</td>\n",
       "      <td>...</td>\n",
       "      <td>116</td>\n",
       "      <td>0.25</td>\n",
       "      <td>41</td>\n",
       "      <td>79</td>\n",
       "      <td>0.50</td>\n",
       "      <td>174</td>\n",
       "      <td>74</td>\n",
       "      <td>Yes</td>\n",
       "      <td>1</td>\n",
       "      <td>4</td>\n",
       "    </tr>\n",
       "    <tr>\n",
       "      <th>6959</th>\n",
       "      <td>7303</td>\n",
       "      <td>2016-01-13</td>\n",
       "      <td>January</td>\n",
       "      <td>1462251</td>\n",
       "      <td>M</td>\n",
       "      <td>96</td>\n",
       "      <td>KODAGU</td>\n",
       "      <td>31</td>\n",
       "      <td>30</td>\n",
       "      <td>18</td>\n",
       "      <td>...</td>\n",
       "      <td>88</td>\n",
       "      <td>0.00</td>\n",
       "      <td>39</td>\n",
       "      <td>48</td>\n",
       "      <td>0.00</td>\n",
       "      <td>99</td>\n",
       "      <td>120</td>\n",
       "      <td>No</td>\n",
       "      <td>0</td>\n",
       "      <td>13</td>\n",
       "    </tr>\n",
       "  </tbody>\n",
       "</table>\n",
       "<p>6960 rows × 32 columns</p>\n",
       "</div>\n",
       "      <button class=\"colab-df-convert\" onclick=\"convertToInteractive('df-6c53ffd6-d4e5-4857-8d78-b3b6d79c86d2')\"\n",
       "              title=\"Convert this dataframe to an interactive table.\"\n",
       "              style=\"display:none;\">\n",
       "        \n",
       "  <svg xmlns=\"http://www.w3.org/2000/svg\" height=\"24px\"viewBox=\"0 0 24 24\"\n",
       "       width=\"24px\">\n",
       "    <path d=\"M0 0h24v24H0V0z\" fill=\"none\"/>\n",
       "    <path d=\"M18.56 5.44l.94 2.06.94-2.06 2.06-.94-2.06-.94-.94-2.06-.94 2.06-2.06.94zm-11 1L8.5 8.5l.94-2.06 2.06-.94-2.06-.94L8.5 2.5l-.94 2.06-2.06.94zm10 10l.94 2.06.94-2.06 2.06-.94-2.06-.94-.94-2.06-.94 2.06-2.06.94z\"/><path d=\"M17.41 7.96l-1.37-1.37c-.4-.4-.92-.59-1.43-.59-.52 0-1.04.2-1.43.59L10.3 9.45l-7.72 7.72c-.78.78-.78 2.05 0 2.83L4 21.41c.39.39.9.59 1.41.59.51 0 1.02-.2 1.41-.59l7.78-7.78 2.81-2.81c.8-.78.8-2.07 0-2.86zM5.41 20L4 18.59l7.72-7.72 1.47 1.35L5.41 20z\"/>\n",
       "  </svg>\n",
       "      </button>\n",
       "      \n",
       "  <style>\n",
       "    .colab-df-container {\n",
       "      display:flex;\n",
       "      flex-wrap:wrap;\n",
       "      gap: 12px;\n",
       "    }\n",
       "\n",
       "    .colab-df-convert {\n",
       "      background-color: #E8F0FE;\n",
       "      border: none;\n",
       "      border-radius: 50%;\n",
       "      cursor: pointer;\n",
       "      display: none;\n",
       "      fill: #1967D2;\n",
       "      height: 32px;\n",
       "      padding: 0 0 0 0;\n",
       "      width: 32px;\n",
       "    }\n",
       "\n",
       "    .colab-df-convert:hover {\n",
       "      background-color: #E2EBFA;\n",
       "      box-shadow: 0px 1px 2px rgba(60, 64, 67, 0.3), 0px 1px 3px 1px rgba(60, 64, 67, 0.15);\n",
       "      fill: #174EA6;\n",
       "    }\n",
       "\n",
       "    [theme=dark] .colab-df-convert {\n",
       "      background-color: #3B4455;\n",
       "      fill: #D2E3FC;\n",
       "    }\n",
       "\n",
       "    [theme=dark] .colab-df-convert:hover {\n",
       "      background-color: #434B5C;\n",
       "      box-shadow: 0px 1px 3px 1px rgba(0, 0, 0, 0.15);\n",
       "      filter: drop-shadow(0px 1px 2px rgba(0, 0, 0, 0.3));\n",
       "      fill: #FFFFFF;\n",
       "    }\n",
       "  </style>\n",
       "\n",
       "      <script>\n",
       "        const buttonEl =\n",
       "          document.querySelector('#df-6c53ffd6-d4e5-4857-8d78-b3b6d79c86d2 button.colab-df-convert');\n",
       "        buttonEl.style.display =\n",
       "          google.colab.kernel.accessAllowed ? 'block' : 'none';\n",
       "\n",
       "        async function convertToInteractive(key) {\n",
       "          const element = document.querySelector('#df-6c53ffd6-d4e5-4857-8d78-b3b6d79c86d2');\n",
       "          const dataTable =\n",
       "            await google.colab.kernel.invokeFunction('convertToInteractive',\n",
       "                                                     [key], {});\n",
       "          if (!dataTable) return;\n",
       "\n",
       "          const docLinkHtml = 'Like what you see? Visit the ' +\n",
       "            '<a target=\"_blank\" href=https://colab.research.google.com/notebooks/data_table.ipynb>data table notebook</a>'\n",
       "            + ' to learn more about interactive tables.';\n",
       "          element.innerHTML = '';\n",
       "          dataTable['output_type'] = 'display_data';\n",
       "          await google.colab.output.renderOutput(dataTable, element);\n",
       "          const docLink = document.createElement('div');\n",
       "          docLink.innerHTML = docLinkHtml;\n",
       "          element.appendChild(docLink);\n",
       "        }\n",
       "      </script>\n",
       "    </div>\n",
       "  </div>\n",
       "  "
      ],
      "text/plain": [
       "      Unnamed: 0       Date     Month    IP No Sex  Age     Place  AO  LA  RV  \\\n",
       "0              0 2016-08-01    August  1473275   F   18    MANDYA  21  23  22   \n",
       "1              1 2016-08-01    August  1474255   F   18    HASSAN   0  22  14   \n",
       "2              2 2016-01-31   January  1441880   M   18    MYSURU  23  34  20   \n",
       "3              3 2016-02-22  February       -1   M   18  AGARTALA  26  27  16   \n",
       "4              4 2016-06-02      June  1486582   M   18    MYSURU  26  21  18   \n",
       "...          ...        ...       ...      ...  ..  ...       ...  ..  ..  ..   \n",
       "6955        7299 2016-08-19    August  1578307   M   90    MYSURU  23  24  16   \n",
       "6956        7300 2016-12-17  December  1636812   M   90    MYSURU  32  28  19   \n",
       "6957        7301 2016-01-29   January  1483291   M   92    MYSURU  29  38  22   \n",
       "6958        7302 2016-12-04  December  1516291   F   95    HASSAN  22  37  19   \n",
       "6959        7303 2016-01-13   January  1462251   M   96    KODAGU  31  30  18   \n",
       "\n",
       "      ...  MV_A    MR  TV_E  TV_A    TR  AV_VMAX  PV_VMAX  Diagnosis  coding  \\\n",
       "0     ...    56  0.00    60    33  0.00      176      149         No       0   \n",
       "1     ...    46  0.00    65    94  0.00      163       90         No       0   \n",
       "2     ...   103  0.00    41    50  0.00      112      115         No       0   \n",
       "3     ...    62  0.00    83    51  0.00      153      158         No       0   \n",
       "4     ...    47  0.00    68    58  0.00      155      144         No       0   \n",
       "...   ...   ...   ...   ...   ...   ...      ...      ...        ...     ...   \n",
       "6955  ...    72  0.00    48    41  0.25       78       92         No       0   \n",
       "6956  ...    71  0.25    37    48  0.50      130       85         No       0   \n",
       "6957  ...    84  0.25    38    50  0.00      115       71         No       0   \n",
       "6958  ...   116  0.25    41    79  0.50      174       74        Yes       1   \n",
       "6959  ...    88  0.00    39    48  0.00       99      120         No       0   \n",
       "\n",
       "      Day  \n",
       "0       1  \n",
       "1       1  \n",
       "2      31  \n",
       "3      22  \n",
       "4       2  \n",
       "...   ...  \n",
       "6955   19  \n",
       "6956   17  \n",
       "6957   29  \n",
       "6958    4  \n",
       "6959   13  \n",
       "\n",
       "[6960 rows x 32 columns]"
      ]
     },
     "execution_count": 103,
     "metadata": {},
     "output_type": "execute_result"
    }
   ],
   "source": [
    "cleanesheet2"
   ]
  },
  {
   "cell_type": "markdown",
   "id": "BaO_FG6r5lfL",
   "metadata": {
    "id": "BaO_FG6r5lfL"
   },
   "source": [
    "# **Decision Tree Classifier**."
   ]
  },
  {
   "cell_type": "markdown",
   "id": "zzu5EGg8Kbzk",
   "metadata": {
    "id": "zzu5EGg8Kbzk"
   },
   "source": [
    "### **1. Categorical variable decision tree.**\n",
    "##### A categorical variable decision tree includes categorical target variables that are divided into categories. For example, the categories can be yes or no. The categories mean that every stage of the decision process falls into one category, and there are no in-betweens.\n",
    "### **2. Continuous variable decision tree.**\n",
    "##### A continuous variable decision tree is a decision tree with a continuous target variable. For example, the income of an individual whose income is unknown can be predicted based on available information such as their occupation, age, and other continuous variables."
   ]
  },
  {
   "cell_type": "code",
   "execution_count": null,
   "id": "81ca1e12",
   "metadata": {
    "id": "81ca1e12"
   },
   "outputs": [],
   "source": [
    "import pandas as pd\n",
    "from sklearn.tree import DecisionTreeClassifier # Import Decision Tree Classifier\n",
    "from sklearn.model_selection import train_test_split # Import train_test_split function\n",
    "from sklearn import metrics"
   ]
  },
  {
   "cell_type": "code",
   "execution_count": null,
   "id": "30518f3c",
   "metadata": {
    "id": "30518f3c"
   },
   "outputs": [],
   "source": [
    "# Drop the columns\n",
    "cleanesheet_2=cleanesheet2.drop(columns=['Date', 'Month', 'IP No', 'Sex', 'Age','RV','Place', 'EDV', 'ESV', 'SV', 'EDV', 'ESV', 'SV','FS(%)', 'MV_E', 'MV_A', 'MR', 'TV_E',\n",
    "       'TV_A', 'TR', 'AV_VMAX', 'PV_VMAX', 'Diagnosis', 'coding', 'Day'])\n"
   ]
  },
  {
   "cell_type": "code",
   "execution_count": null,
   "id": "4a74ab30",
   "metadata": {
    "id": "4a74ab30"
   },
   "outputs": [],
   "source": [
    "# export the feature data\n",
    "cleanesheet_2\n",
    "cleanesheet_2.to_excel(\"features.xlsx\")"
   ]
  },
  {
   "cell_type": "code",
   "execution_count": null,
   "id": "1de0650e",
   "metadata": {
    "colab": {
     "base_uri": "https://localhost:8080/",
     "height": 423
    },
    "id": "1de0650e",
    "outputId": "97557518-c33b-4338-ba53-9c48d6f7ed89"
   },
   "outputs": [
    {
     "data": {
      "text/html": [
       "\n",
       "  <div id=\"df-3a31e685-64f7-4e8e-84ef-d46bfcb4bda0\">\n",
       "    <div class=\"colab-df-container\">\n",
       "      <div>\n",
       "<style scoped>\n",
       "    .dataframe tbody tr th:only-of-type {\n",
       "        vertical-align: middle;\n",
       "    }\n",
       "\n",
       "    .dataframe tbody tr th {\n",
       "        vertical-align: top;\n",
       "    }\n",
       "\n",
       "    .dataframe thead th {\n",
       "        text-align: right;\n",
       "    }\n",
       "</style>\n",
       "<table border=\"1\" class=\"dataframe\">\n",
       "  <thead>\n",
       "    <tr style=\"text-align: right;\">\n",
       "      <th></th>\n",
       "      <th>Unnamed: 0</th>\n",
       "      <th>Unnamed: 0.1</th>\n",
       "      <th>AO</th>\n",
       "      <th>LA</th>\n",
       "      <th>L VID_d</th>\n",
       "      <th>L VID_s</th>\n",
       "      <th>IVS_d</th>\n",
       "      <th>IVS_S</th>\n",
       "      <th>LVPW_d</th>\n",
       "      <th>LVPW_s</th>\n",
       "      <th>EF(%)</th>\n",
       "    </tr>\n",
       "  </thead>\n",
       "  <tbody>\n",
       "    <tr>\n",
       "      <th>0</th>\n",
       "      <td>0</td>\n",
       "      <td>0</td>\n",
       "      <td>21</td>\n",
       "      <td>23</td>\n",
       "      <td>41</td>\n",
       "      <td>22</td>\n",
       "      <td>7</td>\n",
       "      <td>8</td>\n",
       "      <td>10</td>\n",
       "      <td>13</td>\n",
       "      <td>60</td>\n",
       "    </tr>\n",
       "    <tr>\n",
       "      <th>1</th>\n",
       "      <td>1</td>\n",
       "      <td>1</td>\n",
       "      <td>0</td>\n",
       "      <td>22</td>\n",
       "      <td>37</td>\n",
       "      <td>25</td>\n",
       "      <td>6</td>\n",
       "      <td>10</td>\n",
       "      <td>6</td>\n",
       "      <td>9</td>\n",
       "      <td>60</td>\n",
       "    </tr>\n",
       "    <tr>\n",
       "      <th>2</th>\n",
       "      <td>2</td>\n",
       "      <td>2</td>\n",
       "      <td>23</td>\n",
       "      <td>34</td>\n",
       "      <td>48</td>\n",
       "      <td>31</td>\n",
       "      <td>8</td>\n",
       "      <td>10</td>\n",
       "      <td>8</td>\n",
       "      <td>10</td>\n",
       "      <td>60</td>\n",
       "    </tr>\n",
       "    <tr>\n",
       "      <th>3</th>\n",
       "      <td>3</td>\n",
       "      <td>3</td>\n",
       "      <td>26</td>\n",
       "      <td>27</td>\n",
       "      <td>49</td>\n",
       "      <td>34</td>\n",
       "      <td>8</td>\n",
       "      <td>11</td>\n",
       "      <td>8</td>\n",
       "      <td>10</td>\n",
       "      <td>64</td>\n",
       "    </tr>\n",
       "    <tr>\n",
       "      <th>4</th>\n",
       "      <td>4</td>\n",
       "      <td>4</td>\n",
       "      <td>26</td>\n",
       "      <td>21</td>\n",
       "      <td>44</td>\n",
       "      <td>30</td>\n",
       "      <td>7</td>\n",
       "      <td>13</td>\n",
       "      <td>7</td>\n",
       "      <td>10</td>\n",
       "      <td>58</td>\n",
       "    </tr>\n",
       "    <tr>\n",
       "      <th>...</th>\n",
       "      <td>...</td>\n",
       "      <td>...</td>\n",
       "      <td>...</td>\n",
       "      <td>...</td>\n",
       "      <td>...</td>\n",
       "      <td>...</td>\n",
       "      <td>...</td>\n",
       "      <td>...</td>\n",
       "      <td>...</td>\n",
       "      <td>...</td>\n",
       "      <td>...</td>\n",
       "    </tr>\n",
       "    <tr>\n",
       "      <th>6955</th>\n",
       "      <td>6955</td>\n",
       "      <td>7299</td>\n",
       "      <td>23</td>\n",
       "      <td>24</td>\n",
       "      <td>30</td>\n",
       "      <td>20</td>\n",
       "      <td>7</td>\n",
       "      <td>11</td>\n",
       "      <td>7</td>\n",
       "      <td>13</td>\n",
       "      <td>58</td>\n",
       "    </tr>\n",
       "    <tr>\n",
       "      <th>6956</th>\n",
       "      <td>6956</td>\n",
       "      <td>7300</td>\n",
       "      <td>32</td>\n",
       "      <td>28</td>\n",
       "      <td>33</td>\n",
       "      <td>20</td>\n",
       "      <td>7</td>\n",
       "      <td>10</td>\n",
       "      <td>8</td>\n",
       "      <td>10</td>\n",
       "      <td>60</td>\n",
       "    </tr>\n",
       "    <tr>\n",
       "      <th>6957</th>\n",
       "      <td>6957</td>\n",
       "      <td>7301</td>\n",
       "      <td>29</td>\n",
       "      <td>38</td>\n",
       "      <td>40</td>\n",
       "      <td>28</td>\n",
       "      <td>11</td>\n",
       "      <td>13</td>\n",
       "      <td>11</td>\n",
       "      <td>13</td>\n",
       "      <td>60</td>\n",
       "    </tr>\n",
       "    <tr>\n",
       "      <th>6958</th>\n",
       "      <td>6958</td>\n",
       "      <td>7302</td>\n",
       "      <td>22</td>\n",
       "      <td>37</td>\n",
       "      <td>48</td>\n",
       "      <td>36</td>\n",
       "      <td>8</td>\n",
       "      <td>10</td>\n",
       "      <td>11</td>\n",
       "      <td>13</td>\n",
       "      <td>35</td>\n",
       "    </tr>\n",
       "    <tr>\n",
       "      <th>6959</th>\n",
       "      <td>6959</td>\n",
       "      <td>7303</td>\n",
       "      <td>31</td>\n",
       "      <td>30</td>\n",
       "      <td>35</td>\n",
       "      <td>22</td>\n",
       "      <td>10</td>\n",
       "      <td>12</td>\n",
       "      <td>9</td>\n",
       "      <td>12</td>\n",
       "      <td>60</td>\n",
       "    </tr>\n",
       "  </tbody>\n",
       "</table>\n",
       "<p>6960 rows × 11 columns</p>\n",
       "</div>\n",
       "      <button class=\"colab-df-convert\" onclick=\"convertToInteractive('df-3a31e685-64f7-4e8e-84ef-d46bfcb4bda0')\"\n",
       "              title=\"Convert this dataframe to an interactive table.\"\n",
       "              style=\"display:none;\">\n",
       "        \n",
       "  <svg xmlns=\"http://www.w3.org/2000/svg\" height=\"24px\"viewBox=\"0 0 24 24\"\n",
       "       width=\"24px\">\n",
       "    <path d=\"M0 0h24v24H0V0z\" fill=\"none\"/>\n",
       "    <path d=\"M18.56 5.44l.94 2.06.94-2.06 2.06-.94-2.06-.94-.94-2.06-.94 2.06-2.06.94zm-11 1L8.5 8.5l.94-2.06 2.06-.94-2.06-.94L8.5 2.5l-.94 2.06-2.06.94zm10 10l.94 2.06.94-2.06 2.06-.94-2.06-.94-.94-2.06-.94 2.06-2.06.94z\"/><path d=\"M17.41 7.96l-1.37-1.37c-.4-.4-.92-.59-1.43-.59-.52 0-1.04.2-1.43.59L10.3 9.45l-7.72 7.72c-.78.78-.78 2.05 0 2.83L4 21.41c.39.39.9.59 1.41.59.51 0 1.02-.2 1.41-.59l7.78-7.78 2.81-2.81c.8-.78.8-2.07 0-2.86zM5.41 20L4 18.59l7.72-7.72 1.47 1.35L5.41 20z\"/>\n",
       "  </svg>\n",
       "      </button>\n",
       "      \n",
       "  <style>\n",
       "    .colab-df-container {\n",
       "      display:flex;\n",
       "      flex-wrap:wrap;\n",
       "      gap: 12px;\n",
       "    }\n",
       "\n",
       "    .colab-df-convert {\n",
       "      background-color: #E8F0FE;\n",
       "      border: none;\n",
       "      border-radius: 50%;\n",
       "      cursor: pointer;\n",
       "      display: none;\n",
       "      fill: #1967D2;\n",
       "      height: 32px;\n",
       "      padding: 0 0 0 0;\n",
       "      width: 32px;\n",
       "    }\n",
       "\n",
       "    .colab-df-convert:hover {\n",
       "      background-color: #E2EBFA;\n",
       "      box-shadow: 0px 1px 2px rgba(60, 64, 67, 0.3), 0px 1px 3px 1px rgba(60, 64, 67, 0.15);\n",
       "      fill: #174EA6;\n",
       "    }\n",
       "\n",
       "    [theme=dark] .colab-df-convert {\n",
       "      background-color: #3B4455;\n",
       "      fill: #D2E3FC;\n",
       "    }\n",
       "\n",
       "    [theme=dark] .colab-df-convert:hover {\n",
       "      background-color: #434B5C;\n",
       "      box-shadow: 0px 1px 3px 1px rgba(0, 0, 0, 0.15);\n",
       "      filter: drop-shadow(0px 1px 2px rgba(0, 0, 0, 0.3));\n",
       "      fill: #FFFFFF;\n",
       "    }\n",
       "  </style>\n",
       "\n",
       "      <script>\n",
       "        const buttonEl =\n",
       "          document.querySelector('#df-3a31e685-64f7-4e8e-84ef-d46bfcb4bda0 button.colab-df-convert');\n",
       "        buttonEl.style.display =\n",
       "          google.colab.kernel.accessAllowed ? 'block' : 'none';\n",
       "\n",
       "        async function convertToInteractive(key) {\n",
       "          const element = document.querySelector('#df-3a31e685-64f7-4e8e-84ef-d46bfcb4bda0');\n",
       "          const dataTable =\n",
       "            await google.colab.kernel.invokeFunction('convertToInteractive',\n",
       "                                                     [key], {});\n",
       "          if (!dataTable) return;\n",
       "\n",
       "          const docLinkHtml = 'Like what you see? Visit the ' +\n",
       "            '<a target=\"_blank\" href=https://colab.research.google.com/notebooks/data_table.ipynb>data table notebook</a>'\n",
       "            + ' to learn more about interactive tables.';\n",
       "          element.innerHTML = '';\n",
       "          dataTable['output_type'] = 'display_data';\n",
       "          await google.colab.output.renderOutput(dataTable, element);\n",
       "          const docLink = document.createElement('div');\n",
       "          docLink.innerHTML = docLinkHtml;\n",
       "          element.appendChild(docLink);\n",
       "        }\n",
       "      </script>\n",
       "    </div>\n",
       "  </div>\n",
       "  "
      ],
      "text/plain": [
       "      Unnamed: 0  Unnamed: 0.1  AO  LA  L VID_d  L VID_s  IVS_d  IVS_S  \\\n",
       "0              0             0  21  23       41       22      7      8   \n",
       "1              1             1   0  22       37       25      6     10   \n",
       "2              2             2  23  34       48       31      8     10   \n",
       "3              3             3  26  27       49       34      8     11   \n",
       "4              4             4  26  21       44       30      7     13   \n",
       "...          ...           ...  ..  ..      ...      ...    ...    ...   \n",
       "6955        6955          7299  23  24       30       20      7     11   \n",
       "6956        6956          7300  32  28       33       20      7     10   \n",
       "6957        6957          7301  29  38       40       28     11     13   \n",
       "6958        6958          7302  22  37       48       36      8     10   \n",
       "6959        6959          7303  31  30       35       22     10     12   \n",
       "\n",
       "      LVPW_d  LVPW_s  EF(%)  \n",
       "0         10      13     60  \n",
       "1          6       9     60  \n",
       "2          8      10     60  \n",
       "3          8      10     64  \n",
       "4          7      10     58  \n",
       "...      ...     ...    ...  \n",
       "6955       7      13     58  \n",
       "6956       8      10     60  \n",
       "6957      11      13     60  \n",
       "6958      11      13     35  \n",
       "6959       9      12     60  \n",
       "\n",
       "[6960 rows x 11 columns]"
      ]
     },
     "execution_count": 107,
     "metadata": {},
     "output_type": "execute_result"
    }
   ],
   "source": [
    "# load the feature data\n",
    "features=pd.read_excel(\"/content/drive/MyDrive/Colab Notebooks/All Data Sets/features.xlsx\")\n",
    "features"
   ]
  },
  {
   "cell_type": "code",
   "execution_count": null,
   "id": "00b00c62",
   "metadata": {
    "id": "00b00c62"
   },
   "outputs": [],
   "source": [
    "# Fix the Target Variable and Features\n",
    "features=['AO', 'LA', 'L VID_d', 'L VID_s', 'IVS_d', 'IVS_S', 'LVPW_d', 'LVPW_s','EF(%)']\n",
    "X = cleanesheet_2[features] # Features\n",
    "y = cleanesheet2.coding # Target variable"
   ]
  },
  {
   "cell_type": "code",
   "execution_count": null,
   "id": "c7437c4e",
   "metadata": {
    "id": "c7437c4e"
   },
   "outputs": [],
   "source": [
    "# Testing and Training\n",
    "X_train, X_test, y_train, y_test = train_test_split(X, y, test_size=0.3, random_state=1) # 70% training and 30% test"
   ]
  },
  {
   "cell_type": "code",
   "execution_count": null,
   "id": "d02593dd",
   "metadata": {
    "id": "d02593dd"
   },
   "outputs": [],
   "source": [
    "# Create Decision Tree classifer object\n",
    "tree = DecisionTreeClassifier(max_depth=3)\n"
   ]
  },
  {
   "cell_type": "code",
   "execution_count": null,
   "id": "a80f2645",
   "metadata": {
    "colab": {
     "base_uri": "https://localhost:8080/"
    },
    "id": "a80f2645",
    "outputId": "35816c87-4c51-4c05-9323-4b270aa70811"
   },
   "outputs": [
    {
     "data": {
      "text/plain": [
       "DecisionTreeClassifier(max_depth=3)"
      ]
     },
     "execution_count": 194,
     "metadata": {},
     "output_type": "execute_result"
    }
   ],
   "source": [
    "# Train Decision Tree Classifer\n",
    "tree.fit(X_train,y_train)"
   ]
  },
  {
   "cell_type": "code",
   "execution_count": null,
   "id": "923cd441",
   "metadata": {
    "id": "923cd441"
   },
   "outputs": [],
   "source": [
    "#Predict the response for test dataset\n",
    "y_pred = tree.predict(X_test)"
   ]
  },
  {
   "cell_type": "markdown",
   "id": "ZgB1TWWgL7Hb",
   "metadata": {
    "id": "ZgB1TWWgL7Hb"
   },
   "source": [
    "# **Find The Accuracy.**"
   ]
  },
  {
   "cell_type": "code",
   "execution_count": null,
   "id": "78fbcf89",
   "metadata": {
    "colab": {
     "base_uri": "https://localhost:8080/"
    },
    "id": "78fbcf89",
    "outputId": "473a7647-20fd-49d3-e449-07ea64338693"
   },
   "outputs": [
    {
     "name": "stdout",
     "output_type": "stream",
     "text": [
      "Accuracy: 0.9664750957854407\n"
     ]
    }
   ],
   "source": [
    "print(\"Accuracy:\",metrics.accuracy_score(y_test, y_pred))"
   ]
  },
  {
   "cell_type": "code",
   "execution_count": null,
   "id": "7e8806f7",
   "metadata": {
    "colab": {
     "base_uri": "https://localhost:8080/"
    },
    "id": "7e8806f7",
    "outputId": "11fb803c-5706-49d8-a5e6-e9a6ce8186aa"
   },
   "outputs": [
    {
     "name": "stdout",
     "output_type": "stream",
     "text": [
      "[[1743   33]\n",
      " [  37  275]]\n",
      "              precision    recall  f1-score   support\n",
      "\n",
      "           0       0.98      0.98      0.98      1776\n",
      "           1       0.89      0.88      0.89       312\n",
      "\n",
      "    accuracy                           0.97      2088\n",
      "   macro avg       0.94      0.93      0.93      2088\n",
      "weighted avg       0.97      0.97      0.97      2088\n",
      "\n"
     ]
    }
   ],
   "source": [
    "from sklearn.metrics import classification_report, confusion_matrix\n",
    "print(confusion_matrix(y_test, y_pred))\n",
    "print(classification_report(y_test, y_pred))"
   ]
  },
  {
   "cell_type": "code",
   "execution_count": null,
   "id": "6b6437da",
   "metadata": {
    "id": "6b6437da"
   },
   "outputs": [],
   "source": [
    "class_name=['AO', 'LA', 'L VID_d', 'L VID_s', 'IVS_d', 'IVS_S', 'LVPW_d', 'LVPW_s','EF(%)']"
   ]
  },
  {
   "cell_type": "code",
   "execution_count": null,
   "id": "ZSPexsDcHmPQ",
   "metadata": {
    "colab": {
     "base_uri": "https://localhost:8080/",
     "height": 248
    },
    "id": "ZSPexsDcHmPQ",
    "outputId": "2f72405f-e4c2-4938-f40c-79362a8ae574"
   },
   "outputs": [
    {
     "data": {
      "image/png": "[encoded data removed]",
      "text/plain": [
       "<Figure size 432x288 with 1 Axes>"
      ]
     },
     "metadata": {
      "needs_background": "light"
     },
     "output_type": "display_data"
    }
   ],
   "source": [
    "# Visualising the graph without the use of graphvizplt.figure(figsize = (20,20))\n",
    "dec_tree = plot_tree(decision_tree=tree, feature_names = cleanesheet2.columns, \n",
    "                     class_names =class_name , filled = True , precision = 4, rounded = True)"
   ]
  },
  {
   "cell_type": "markdown",
   "id": "K8CUclMIMHEq",
   "metadata": {
    "id": "K8CUclMIMHEq"
   },
   "source": [
    "# **Visualising the decision tree graph.**"
   ]
  },
  {
   "cell_type": "code",
   "execution_count": null,
   "id": "ef48108c",
   "metadata": {
    "colab": {
     "base_uri": "https://localhost:8080/",
     "height": 594
    },
    "id": "ef48108c",
    "outputId": "037757db-51cf-4cdb-f787-739f53218764"
   },
   "outputs": [
    {
     "data": {
      "image/png": "[encoded data removed]",
      "text/plain": [
       "<IPython.core.display.Image object>"
      ]
     },
     "execution_count": 200,
     "metadata": {},
     "output_type": "execute_result"
    }
   ],
   "source": [
    "from sklearn.tree import export_graphviz\n",
    "from six import StringIO\n",
    "from IPython.display import Image \n",
    "from sklearn.tree import plot_tree\n",
    "import pydotplus\n",
    "\n",
    "dot_data = StringIO()\n",
    "export_graphviz(tree, out_file=dot_data,  \n",
    "                filled=True, rounded=True,\n",
    "                special_characters=True,feature_names = features,class_names=['0','1'])\n",
    "graph = pydotplus.graph_from_dot_data(dot_data.getvalue())  \n",
    "graph.write_png('tree.png')\n",
    "Image(graph.create_png())"
   ]
  },
  {
   "cell_type": "markdown",
   "id": "B4cn08hfKCSN",
   "metadata": {
    "id": "B4cn08hfKCSN"
   },
   "source": [
    "# **Ejection Fraction(EF%).**\n",
    "### 🔶 High fraction           - above 70%.\n",
    "### 🔶 Normal fraction         - 55% - 70%.\n",
    "### 🔶 Low fraction            - 40% - 55%.\n",
    "### 🔶 Possible heart failure  - below 40%.\n",
    "![image.png](data:image/png;base64,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)"
   ]
  },
  {
   "attachments": {
    "image.png": {
     "image/png": "[encoded data removed]"
    }
   },
   "cell_type": "markdown",
   "id": "63bb41c2",
   "metadata": {},
   "source": [
    "![image.png](attachment:image.png)"
   ]
  },
  {
   "cell_type": "code",
   "execution_count": null,
   "id": "318e7f79",
   "metadata": {},
   "outputs": [],
   "source": []
  }
 ],
 "metadata": {
  "colab": {
   "collapsed_sections": [
    "14d89eb7"
   ],
   "provenance": []
  },
  "kernelspec": {
   "display_name": "Python 3 (ipykernel)",
   "language": "python",
   "name": "python3"
  },
  "language_info": {
   "codemirror_mode": {
    "name": "ipython",
    "version": 3
   },
   "file_extension": ".py",
   "mimetype": "text/x-python",
   "name": "python",
   "nbconvert_exporter": "python",
   "pygments_lexer": "ipython3",
   "version": "3.9.13"
  }
 },
 "nbformat": 4,
 "nbformat_minor": 5
}
